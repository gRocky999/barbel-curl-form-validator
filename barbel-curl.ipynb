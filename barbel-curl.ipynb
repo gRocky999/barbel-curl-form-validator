{
 "cells": [
  {
   "cell_type": "code",
   "execution_count": 6,
   "metadata": {
    "_cell_guid": "b1076dfc-b9ad-4769-8c92-a6c4dae69d19",
    "_uuid": "8f2839f25d086af736a60e9eeb907d3b93b6e0e5",
    "execution": {
     "iopub.execute_input": "2025-04-02T17:43:29.564589Z",
     "iopub.status.busy": "2025-04-02T17:43:29.563930Z",
     "iopub.status.idle": "2025-04-02T17:43:29.579754Z",
     "shell.execute_reply": "2025-04-02T17:43:29.577536Z",
     "shell.execute_reply.started": "2025-04-02T17:43:29.564540Z"
    },
    "trusted": true
   },
   "outputs": [
    {
     "name": "stdout",
     "output_type": "stream",
     "text": [
      "/kaggle/input/train-and-test-dataset/train.csv\n",
      "/kaggle/input/train-and-test-dataset/test.csv\n",
      "/kaggle/input/barbel-curl-preprocessed-dataset/pose_data_preprocessed.csv\n"
     ]
    }
   ],
   "source": [
    "# This Python 3 environment comes with many helpful analytics libraries installed\n",
    "# It is defined by the kaggle/python Docker image: https://github.com/kaggle/docker-python\n",
    "# For example, here's several helpful packages to load\n",
    "\n",
    "import numpy as np # linear algebra\n",
    "import pandas as pd # data processing, CSV file I/O (e.g. pd.read_csv)\n",
    "\n",
    "# Input data files are available in the read-only \"../input/\" directory\n",
    "# For example, running this (by clicking run or pressing Shift+Enter) will list all files under the input directory\n",
    "\n",
    "import os\n",
    "for dirname, _, filenames in os.walk('/kaggle/input'):\n",
    "    for filename in filenames:\n",
    "        print(os.path.join(dirname, filename))\n",
    "\n",
    "# You can write up to 20GB to the current directory (/kaggle/working/) that gets preserved as output when you create a version using \"Save & Run All\" \n",
    "# You can also write temporary files to /kaggle/temp/, but they won't be saved outside of the current session"
   ]
  },
  {
   "cell_type": "code",
   "execution_count": 7,
   "metadata": {
    "execution": {
     "iopub.execute_input": "2025-04-02T17:43:29.582923Z",
     "iopub.status.busy": "2025-04-02T17:43:29.582050Z",
     "iopub.status.idle": "2025-04-02T17:43:33.838647Z",
     "shell.execute_reply": "2025-04-02T17:43:33.837767Z",
     "shell.execute_reply.started": "2025-04-02T17:43:29.582845Z"
    },
    "trusted": true
   },
   "outputs": [
    {
     "name": "stdout",
     "output_type": "stream",
     "text": [
      "Requirement already satisfied: tensorflow in /usr/local/lib/python3.10/dist-packages (2.17.1)\n",
      "Requirement already satisfied: absl-py>=1.0.0 in /usr/local/lib/python3.10/dist-packages (from tensorflow) (1.4.0)\n",
      "Requirement already satisfied: astunparse>=1.6.0 in /usr/local/lib/python3.10/dist-packages (from tensorflow) (1.6.3)\n",
      "Requirement already satisfied: flatbuffers>=24.3.25 in /usr/local/lib/python3.10/dist-packages (from tensorflow) (24.3.25)\n",
      "Requirement already satisfied: gast!=0.5.0,!=0.5.1,!=0.5.2,>=0.2.1 in /usr/local/lib/python3.10/dist-packages (from tensorflow) (0.6.0)\n",
      "Requirement already satisfied: google-pasta>=0.1.1 in /usr/local/lib/python3.10/dist-packages (from tensorflow) (0.2.0)\n",
      "Requirement already satisfied: h5py>=3.10.0 in /usr/local/lib/python3.10/dist-packages (from tensorflow) (3.12.1)\n",
      "Requirement already satisfied: libclang>=13.0.0 in /usr/local/lib/python3.10/dist-packages (from tensorflow) (18.1.1)\n",
      "Requirement already satisfied: ml-dtypes<0.5.0,>=0.3.1 in /usr/local/lib/python3.10/dist-packages (from tensorflow) (0.4.1)\n",
      "Requirement already satisfied: opt-einsum>=2.3.2 in /usr/local/lib/python3.10/dist-packages (from tensorflow) (3.4.0)\n",
      "Requirement already satisfied: packaging in /usr/local/lib/python3.10/dist-packages (from tensorflow) (24.2)\n",
      "Requirement already satisfied: protobuf!=4.21.0,!=4.21.1,!=4.21.2,!=4.21.3,!=4.21.4,!=4.21.5,<5.0.0dev,>=3.20.3 in /usr/local/lib/python3.10/dist-packages (from tensorflow) (3.20.3)\n",
      "Requirement already satisfied: requests<3,>=2.21.0 in /usr/local/lib/python3.10/dist-packages (from tensorflow) (2.32.3)\n",
      "Requirement already satisfied: setuptools in /usr/local/lib/python3.10/dist-packages (from tensorflow) (75.1.0)\n",
      "Requirement already satisfied: six>=1.12.0 in /usr/local/lib/python3.10/dist-packages (from tensorflow) (1.17.0)\n",
      "Requirement already satisfied: termcolor>=1.1.0 in /usr/local/lib/python3.10/dist-packages (from tensorflow) (2.5.0)\n",
      "Requirement already satisfied: typing-extensions>=3.6.6 in /usr/local/lib/python3.10/dist-packages (from tensorflow) (4.12.2)\n",
      "Requirement already satisfied: wrapt>=1.11.0 in /usr/local/lib/python3.10/dist-packages (from tensorflow) (1.17.0)\n",
      "Requirement already satisfied: grpcio<2.0,>=1.24.3 in /usr/local/lib/python3.10/dist-packages (from tensorflow) (1.68.1)\n",
      "Requirement already satisfied: tensorboard<2.18,>=2.17 in /usr/local/lib/python3.10/dist-packages (from tensorflow) (2.17.1)\n",
      "Requirement already satisfied: keras>=3.2.0 in /usr/local/lib/python3.10/dist-packages (from tensorflow) (3.5.0)\n",
      "Requirement already satisfied: tensorflow-io-gcs-filesystem>=0.23.1 in /usr/local/lib/python3.10/dist-packages (from tensorflow) (0.37.1)\n",
      "Requirement already satisfied: numpy<2.0.0,>=1.23.5 in /usr/local/lib/python3.10/dist-packages (from tensorflow) (1.26.4)\n",
      "Requirement already satisfied: wheel<1.0,>=0.23.0 in /usr/local/lib/python3.10/dist-packages (from astunparse>=1.6.0->tensorflow) (0.45.1)\n",
      "Requirement already satisfied: rich in /usr/local/lib/python3.10/dist-packages (from keras>=3.2.0->tensorflow) (13.9.4)\n",
      "Requirement already satisfied: namex in /usr/local/lib/python3.10/dist-packages (from keras>=3.2.0->tensorflow) (0.0.8)\n",
      "Requirement already satisfied: optree in /usr/local/lib/python3.10/dist-packages (from keras>=3.2.0->tensorflow) (0.13.1)\n",
      "Requirement already satisfied: mkl_fft in /usr/local/lib/python3.10/dist-packages (from numpy<2.0.0,>=1.23.5->tensorflow) (1.3.8)\n",
      "Requirement already satisfied: mkl_random in /usr/local/lib/python3.10/dist-packages (from numpy<2.0.0,>=1.23.5->tensorflow) (1.2.4)\n",
      "Requirement already satisfied: mkl_umath in /usr/local/lib/python3.10/dist-packages (from numpy<2.0.0,>=1.23.5->tensorflow) (0.1.1)\n",
      "Requirement already satisfied: mkl in /usr/local/lib/python3.10/dist-packages (from numpy<2.0.0,>=1.23.5->tensorflow) (2025.0.1)\n",
      "Requirement already satisfied: tbb4py in /usr/local/lib/python3.10/dist-packages (from numpy<2.0.0,>=1.23.5->tensorflow) (2022.0.0)\n",
      "Requirement already satisfied: mkl-service in /usr/local/lib/python3.10/dist-packages (from numpy<2.0.0,>=1.23.5->tensorflow) (2.4.1)\n",
      "Requirement already satisfied: charset-normalizer<4,>=2 in /usr/local/lib/python3.10/dist-packages (from requests<3,>=2.21.0->tensorflow) (3.4.1)\n",
      "Requirement already satisfied: idna<4,>=2.5 in /usr/local/lib/python3.10/dist-packages (from requests<3,>=2.21.0->tensorflow) (3.10)\n",
      "Requirement already satisfied: urllib3<3,>=1.21.1 in /usr/local/lib/python3.10/dist-packages (from requests<3,>=2.21.0->tensorflow) (2.3.0)\n",
      "Requirement already satisfied: certifi>=2017.4.17 in /usr/local/lib/python3.10/dist-packages (from requests<3,>=2.21.0->tensorflow) (2025.1.31)\n",
      "Requirement already satisfied: markdown>=2.6.8 in /usr/local/lib/python3.10/dist-packages (from tensorboard<2.18,>=2.17->tensorflow) (3.7)\n",
      "Requirement already satisfied: tensorboard-data-server<0.8.0,>=0.7.0 in /usr/local/lib/python3.10/dist-packages (from tensorboard<2.18,>=2.17->tensorflow) (0.7.2)\n",
      "Requirement already satisfied: werkzeug>=1.0.1 in /usr/local/lib/python3.10/dist-packages (from tensorboard<2.18,>=2.17->tensorflow) (3.1.3)\n",
      "Requirement already satisfied: MarkupSafe>=2.1.1 in /usr/local/lib/python3.10/dist-packages (from werkzeug>=1.0.1->tensorboard<2.18,>=2.17->tensorflow) (3.0.2)\n",
      "Requirement already satisfied: intel-openmp>=2024 in /usr/local/lib/python3.10/dist-packages (from mkl->numpy<2.0.0,>=1.23.5->tensorflow) (2024.2.0)\n",
      "Requirement already satisfied: tbb==2022.* in /usr/local/lib/python3.10/dist-packages (from mkl->numpy<2.0.0,>=1.23.5->tensorflow) (2022.0.0)\n",
      "Requirement already satisfied: tcmlib==1.* in /usr/local/lib/python3.10/dist-packages (from tbb==2022.*->mkl->numpy<2.0.0,>=1.23.5->tensorflow) (1.2.0)\n",
      "Requirement already satisfied: intel-cmplr-lib-rt in /usr/local/lib/python3.10/dist-packages (from mkl_umath->numpy<2.0.0,>=1.23.5->tensorflow) (2024.2.0)\n",
      "Requirement already satisfied: markdown-it-py>=2.2.0 in /usr/local/lib/python3.10/dist-packages (from rich->keras>=3.2.0->tensorflow) (3.0.0)\n",
      "Requirement already satisfied: pygments<3.0.0,>=2.13.0 in /usr/local/lib/python3.10/dist-packages (from rich->keras>=3.2.0->tensorflow) (2.19.1)\n",
      "Requirement already satisfied: intel-cmplr-lib-ur==2024.2.0 in /usr/local/lib/python3.10/dist-packages (from intel-openmp>=2024->mkl->numpy<2.0.0,>=1.23.5->tensorflow) (2024.2.0)\n",
      "Requirement already satisfied: mdurl~=0.1 in /usr/local/lib/python3.10/dist-packages (from markdown-it-py>=2.2.0->rich->keras>=3.2.0->tensorflow) (0.1.2)\n"
     ]
    }
   ],
   "source": [
    "!pip install tensorflow"
   ]
  },
  {
   "cell_type": "code",
   "execution_count": 8,
   "metadata": {
    "execution": {
     "iopub.execute_input": "2025-04-02T17:43:33.840589Z",
     "iopub.status.busy": "2025-04-02T17:43:33.840322Z",
     "iopub.status.idle": "2025-04-02T17:43:33.845713Z",
     "shell.execute_reply": "2025-04-02T17:43:33.845161Z",
     "shell.execute_reply.started": "2025-04-02T17:43:33.840568Z"
    },
    "trusted": true
   },
   "outputs": [
    {
     "data": {
      "text/plain": [
       "['train-and-test-dataset', 'barbel-curl-preprocessed-dataset']"
      ]
     },
     "execution_count": 8,
     "metadata": {},
     "output_type": "execute_result"
    }
   ],
   "source": [
    "import os;\n",
    "os.listdir('/kaggle/input/')"
   ]
  },
  {
   "cell_type": "code",
   "execution_count": 9,
   "metadata": {
    "execution": {
     "iopub.execute_input": "2025-04-02T17:43:33.847274Z",
     "iopub.status.busy": "2025-04-02T17:43:33.846920Z",
     "iopub.status.idle": "2025-04-02T17:43:34.508994Z",
     "shell.execute_reply": "2025-04-02T17:43:34.508336Z",
     "shell.execute_reply.started": "2025-04-02T17:43:33.847243Z"
    },
    "trusted": true
   },
   "outputs": [],
   "source": [
    "df = pd.read_csv(\"/kaggle/input/train-and-test-dataset/train.csv\")"
   ]
  },
  {
   "cell_type": "code",
   "execution_count": 10,
   "metadata": {
    "execution": {
     "iopub.execute_input": "2025-04-02T17:43:34.510251Z",
     "iopub.status.busy": "2025-04-02T17:43:34.509782Z",
     "iopub.status.idle": "2025-04-02T17:43:34.531750Z",
     "shell.execute_reply": "2025-04-02T17:43:34.530934Z",
     "shell.execute_reply.started": "2025-04-02T17:43:34.510220Z"
    },
    "trusted": true
   },
   "outputs": [
    {
     "data": {
      "text/html": [
       "<div>\n",
       "<style scoped>\n",
       "    .dataframe tbody tr th:only-of-type {\n",
       "        vertical-align: middle;\n",
       "    }\n",
       "\n",
       "    .dataframe tbody tr th {\n",
       "        vertical-align: top;\n",
       "    }\n",
       "\n",
       "    .dataframe thead th {\n",
       "        text-align: right;\n",
       "    }\n",
       "</style>\n",
       "<table border=\"1\" class=\"dataframe\">\n",
       "  <thead>\n",
       "    <tr style=\"text-align: right;\">\n",
       "      <th></th>\n",
       "      <th>NOSE_x</th>\n",
       "      <th>NOSE_y</th>\n",
       "      <th>NOSE_z</th>\n",
       "      <th>LEFT_SHOULDER_x</th>\n",
       "      <th>LEFT_SHOULDER_y</th>\n",
       "      <th>LEFT_SHOULDER_z</th>\n",
       "      <th>RIGHT_SHOULDER_x</th>\n",
       "      <th>RIGHT_SHOULDER_y</th>\n",
       "      <th>RIGHT_SHOULDER_z</th>\n",
       "      <th>RIGHT_ELBOW_x</th>\n",
       "      <th>...</th>\n",
       "      <th>LEFT_WRIST_x</th>\n",
       "      <th>LEFT_WRIST_y</th>\n",
       "      <th>LEFT_WRIST_z</th>\n",
       "      <th>LEFT_HIP_x</th>\n",
       "      <th>LEFT_HIP_y</th>\n",
       "      <th>LEFT_HIP_z</th>\n",
       "      <th>RIGHT_HIP_x</th>\n",
       "      <th>RIGHT_HIP_y</th>\n",
       "      <th>RIGHT_HIP_z</th>\n",
       "      <th>label</th>\n",
       "    </tr>\n",
       "  </thead>\n",
       "  <tbody>\n",
       "    <tr>\n",
       "      <th>0</th>\n",
       "      <td>0.471012</td>\n",
       "      <td>0.153530</td>\n",
       "      <td>0.500676</td>\n",
       "      <td>0.521585</td>\n",
       "      <td>0.143661</td>\n",
       "      <td>0.582902</td>\n",
       "      <td>0.461298</td>\n",
       "      <td>0.174968</td>\n",
       "      <td>0.462398</td>\n",
       "      <td>0.556141</td>\n",
       "      <td>...</td>\n",
       "      <td>0.588857</td>\n",
       "      <td>0.277502</td>\n",
       "      <td>0.379209</td>\n",
       "      <td>0.640369</td>\n",
       "      <td>0.312708</td>\n",
       "      <td>0.573282</td>\n",
       "      <td>0.619768</td>\n",
       "      <td>0.430786</td>\n",
       "      <td>0.425827</td>\n",
       "      <td>0</td>\n",
       "    </tr>\n",
       "    <tr>\n",
       "      <th>1</th>\n",
       "      <td>0.467903</td>\n",
       "      <td>0.164373</td>\n",
       "      <td>0.534046</td>\n",
       "      <td>0.517059</td>\n",
       "      <td>0.148057</td>\n",
       "      <td>0.606298</td>\n",
       "      <td>0.458718</td>\n",
       "      <td>0.173553</td>\n",
       "      <td>0.489304</td>\n",
       "      <td>0.551948</td>\n",
       "      <td>...</td>\n",
       "      <td>0.577198</td>\n",
       "      <td>0.291355</td>\n",
       "      <td>0.419041</td>\n",
       "      <td>0.637866</td>\n",
       "      <td>0.317643</td>\n",
       "      <td>0.571737</td>\n",
       "      <td>0.619003</td>\n",
       "      <td>0.442024</td>\n",
       "      <td>0.427426</td>\n",
       "      <td>0</td>\n",
       "    </tr>\n",
       "    <tr>\n",
       "      <th>2</th>\n",
       "      <td>0.145693</td>\n",
       "      <td>0.291957</td>\n",
       "      <td>0.486431</td>\n",
       "      <td>0.403305</td>\n",
       "      <td>0.233623</td>\n",
       "      <td>0.280822</td>\n",
       "      <td>0.328959</td>\n",
       "      <td>0.308854</td>\n",
       "      <td>0.567276</td>\n",
       "      <td>0.518348</td>\n",
       "      <td>...</td>\n",
       "      <td>0.569074</td>\n",
       "      <td>0.541731</td>\n",
       "      <td>0.315905</td>\n",
       "      <td>0.661139</td>\n",
       "      <td>0.381344</td>\n",
       "      <td>0.198381</td>\n",
       "      <td>0.617833</td>\n",
       "      <td>0.530057</td>\n",
       "      <td>0.799713</td>\n",
       "      <td>1</td>\n",
       "    </tr>\n",
       "    <tr>\n",
       "      <th>3</th>\n",
       "      <td>0.518484</td>\n",
       "      <td>0.121850</td>\n",
       "      <td>0.600098</td>\n",
       "      <td>0.589210</td>\n",
       "      <td>0.225711</td>\n",
       "      <td>0.452384</td>\n",
       "      <td>0.589784</td>\n",
       "      <td>0.233873</td>\n",
       "      <td>0.608781</td>\n",
       "      <td>0.678253</td>\n",
       "      <td>...</td>\n",
       "      <td>0.522680</td>\n",
       "      <td>0.647569</td>\n",
       "      <td>0.480614</td>\n",
       "      <td>0.710686</td>\n",
       "      <td>0.469862</td>\n",
       "      <td>0.341718</td>\n",
       "      <td>0.697406</td>\n",
       "      <td>0.627967</td>\n",
       "      <td>0.657904</td>\n",
       "      <td>0</td>\n",
       "    </tr>\n",
       "    <tr>\n",
       "      <th>4</th>\n",
       "      <td>0.462099</td>\n",
       "      <td>0.269903</td>\n",
       "      <td>0.525970</td>\n",
       "      <td>0.504655</td>\n",
       "      <td>0.236624</td>\n",
       "      <td>0.594655</td>\n",
       "      <td>0.457422</td>\n",
       "      <td>0.268088</td>\n",
       "      <td>0.481632</td>\n",
       "      <td>0.547376</td>\n",
       "      <td>...</td>\n",
       "      <td>0.561069</td>\n",
       "      <td>0.374897</td>\n",
       "      <td>0.407708</td>\n",
       "      <td>0.628349</td>\n",
       "      <td>0.369815</td>\n",
       "      <td>0.580552</td>\n",
       "      <td>0.611286</td>\n",
       "      <td>0.510722</td>\n",
       "      <td>0.418547</td>\n",
       "      <td>0</td>\n",
       "    </tr>\n",
       "    <tr>\n",
       "      <th>5</th>\n",
       "      <td>0.466853</td>\n",
       "      <td>0.217060</td>\n",
       "      <td>0.597817</td>\n",
       "      <td>0.455731</td>\n",
       "      <td>0.212778</td>\n",
       "      <td>0.716696</td>\n",
       "      <td>0.447873</td>\n",
       "      <td>0.256840</td>\n",
       "      <td>0.413323</td>\n",
       "      <td>0.567682</td>\n",
       "      <td>...</td>\n",
       "      <td>0.539500</td>\n",
       "      <td>0.373720</td>\n",
       "      <td>0.466399</td>\n",
       "      <td>0.620947</td>\n",
       "      <td>0.417518</td>\n",
       "      <td>0.761371</td>\n",
       "      <td>0.611909</td>\n",
       "      <td>0.578809</td>\n",
       "      <td>0.238505</td>\n",
       "      <td>0</td>\n",
       "    </tr>\n",
       "    <tr>\n",
       "      <th>6</th>\n",
       "      <td>0.421290</td>\n",
       "      <td>0.264076</td>\n",
       "      <td>0.573826</td>\n",
       "      <td>0.578699</td>\n",
       "      <td>0.223772</td>\n",
       "      <td>0.541517</td>\n",
       "      <td>0.426047</td>\n",
       "      <td>0.273328</td>\n",
       "      <td>0.680219</td>\n",
       "      <td>0.499004</td>\n",
       "      <td>...</td>\n",
       "      <td>0.440796</td>\n",
       "      <td>0.337602</td>\n",
       "      <td>0.345404</td>\n",
       "      <td>0.650514</td>\n",
       "      <td>0.372055</td>\n",
       "      <td>0.293668</td>\n",
       "      <td>0.598742</td>\n",
       "      <td>0.520218</td>\n",
       "      <td>0.704541</td>\n",
       "      <td>1</td>\n",
       "    </tr>\n",
       "    <tr>\n",
       "      <th>7</th>\n",
       "      <td>0.154324</td>\n",
       "      <td>0.305016</td>\n",
       "      <td>0.469458</td>\n",
       "      <td>0.412502</td>\n",
       "      <td>0.238016</td>\n",
       "      <td>0.256185</td>\n",
       "      <td>0.338124</td>\n",
       "      <td>0.310242</td>\n",
       "      <td>0.559372</td>\n",
       "      <td>0.526422</td>\n",
       "      <td>...</td>\n",
       "      <td>0.567710</td>\n",
       "      <td>0.541554</td>\n",
       "      <td>0.321745</td>\n",
       "      <td>0.668296</td>\n",
       "      <td>0.382601</td>\n",
       "      <td>0.197353</td>\n",
       "      <td>0.621346</td>\n",
       "      <td>0.533142</td>\n",
       "      <td>0.800785</td>\n",
       "      <td>1</td>\n",
       "    </tr>\n",
       "    <tr>\n",
       "      <th>8</th>\n",
       "      <td>0.491661</td>\n",
       "      <td>0.221582</td>\n",
       "      <td>0.607879</td>\n",
       "      <td>0.426833</td>\n",
       "      <td>0.228881</td>\n",
       "      <td>0.740459</td>\n",
       "      <td>0.456774</td>\n",
       "      <td>0.269948</td>\n",
       "      <td>0.344908</td>\n",
       "      <td>0.553820</td>\n",
       "      <td>...</td>\n",
       "      <td>0.529966</td>\n",
       "      <td>0.544817</td>\n",
       "      <td>0.602154</td>\n",
       "      <td>0.596217</td>\n",
       "      <td>0.459087</td>\n",
       "      <td>0.865903</td>\n",
       "      <td>0.607195</td>\n",
       "      <td>0.639638</td>\n",
       "      <td>0.134177</td>\n",
       "      <td>0</td>\n",
       "    </tr>\n",
       "    <tr>\n",
       "      <th>9</th>\n",
       "      <td>0.423937</td>\n",
       "      <td>0.192926</td>\n",
       "      <td>0.471831</td>\n",
       "      <td>0.530395</td>\n",
       "      <td>0.287871</td>\n",
       "      <td>0.591094</td>\n",
       "      <td>0.359082</td>\n",
       "      <td>0.330039</td>\n",
       "      <td>0.460979</td>\n",
       "      <td>0.473077</td>\n",
       "      <td>...</td>\n",
       "      <td>0.597147</td>\n",
       "      <td>0.806057</td>\n",
       "      <td>0.463833</td>\n",
       "      <td>0.636041</td>\n",
       "      <td>0.634035</td>\n",
       "      <td>0.585350</td>\n",
       "      <td>0.561427</td>\n",
       "      <td>0.867945</td>\n",
       "      <td>0.415771</td>\n",
       "      <td>0</td>\n",
       "    </tr>\n",
       "  </tbody>\n",
       "</table>\n",
       "<p>10 rows × 28 columns</p>\n",
       "</div>"
      ],
      "text/plain": [
       "     NOSE_x    NOSE_y    NOSE_z  LEFT_SHOULDER_x  LEFT_SHOULDER_y  \\\n",
       "0  0.471012  0.153530  0.500676         0.521585         0.143661   \n",
       "1  0.467903  0.164373  0.534046         0.517059         0.148057   \n",
       "2  0.145693  0.291957  0.486431         0.403305         0.233623   \n",
       "3  0.518484  0.121850  0.600098         0.589210         0.225711   \n",
       "4  0.462099  0.269903  0.525970         0.504655         0.236624   \n",
       "5  0.466853  0.217060  0.597817         0.455731         0.212778   \n",
       "6  0.421290  0.264076  0.573826         0.578699         0.223772   \n",
       "7  0.154324  0.305016  0.469458         0.412502         0.238016   \n",
       "8  0.491661  0.221582  0.607879         0.426833         0.228881   \n",
       "9  0.423937  0.192926  0.471831         0.530395         0.287871   \n",
       "\n",
       "   LEFT_SHOULDER_z  RIGHT_SHOULDER_x  RIGHT_SHOULDER_y  RIGHT_SHOULDER_z  \\\n",
       "0         0.582902          0.461298          0.174968          0.462398   \n",
       "1         0.606298          0.458718          0.173553          0.489304   \n",
       "2         0.280822          0.328959          0.308854          0.567276   \n",
       "3         0.452384          0.589784          0.233873          0.608781   \n",
       "4         0.594655          0.457422          0.268088          0.481632   \n",
       "5         0.716696          0.447873          0.256840          0.413323   \n",
       "6         0.541517          0.426047          0.273328          0.680219   \n",
       "7         0.256185          0.338124          0.310242          0.559372   \n",
       "8         0.740459          0.456774          0.269948          0.344908   \n",
       "9         0.591094          0.359082          0.330039          0.460979   \n",
       "\n",
       "   RIGHT_ELBOW_x  ...  LEFT_WRIST_x  LEFT_WRIST_y  LEFT_WRIST_z  LEFT_HIP_x  \\\n",
       "0       0.556141  ...      0.588857      0.277502      0.379209    0.640369   \n",
       "1       0.551948  ...      0.577198      0.291355      0.419041    0.637866   \n",
       "2       0.518348  ...      0.569074      0.541731      0.315905    0.661139   \n",
       "3       0.678253  ...      0.522680      0.647569      0.480614    0.710686   \n",
       "4       0.547376  ...      0.561069      0.374897      0.407708    0.628349   \n",
       "5       0.567682  ...      0.539500      0.373720      0.466399    0.620947   \n",
       "6       0.499004  ...      0.440796      0.337602      0.345404    0.650514   \n",
       "7       0.526422  ...      0.567710      0.541554      0.321745    0.668296   \n",
       "8       0.553820  ...      0.529966      0.544817      0.602154    0.596217   \n",
       "9       0.473077  ...      0.597147      0.806057      0.463833    0.636041   \n",
       "\n",
       "   LEFT_HIP_y  LEFT_HIP_z  RIGHT_HIP_x  RIGHT_HIP_y  RIGHT_HIP_z  label  \n",
       "0    0.312708    0.573282     0.619768     0.430786     0.425827      0  \n",
       "1    0.317643    0.571737     0.619003     0.442024     0.427426      0  \n",
       "2    0.381344    0.198381     0.617833     0.530057     0.799713      1  \n",
       "3    0.469862    0.341718     0.697406     0.627967     0.657904      0  \n",
       "4    0.369815    0.580552     0.611286     0.510722     0.418547      0  \n",
       "5    0.417518    0.761371     0.611909     0.578809     0.238505      0  \n",
       "6    0.372055    0.293668     0.598742     0.520218     0.704541      1  \n",
       "7    0.382601    0.197353     0.621346     0.533142     0.800785      1  \n",
       "8    0.459087    0.865903     0.607195     0.639638     0.134177      0  \n",
       "9    0.634035    0.585350     0.561427     0.867945     0.415771      0  \n",
       "\n",
       "[10 rows x 28 columns]"
      ]
     },
     "execution_count": 10,
     "metadata": {},
     "output_type": "execute_result"
    }
   ],
   "source": [
    "df.head(10)"
   ]
  },
  {
   "cell_type": "code",
   "execution_count": 11,
   "metadata": {
    "execution": {
     "iopub.execute_input": "2025-04-02T17:43:34.532858Z",
     "iopub.status.busy": "2025-04-02T17:43:34.532577Z",
     "iopub.status.idle": "2025-04-02T17:43:34.551917Z",
     "shell.execute_reply": "2025-04-02T17:43:34.551243Z",
     "shell.execute_reply.started": "2025-04-02T17:43:34.532806Z"
    },
    "trusted": true
   },
   "outputs": [
    {
     "data": {
      "text/plain": [
       "(115000, 28)"
      ]
     },
     "execution_count": 11,
     "metadata": {},
     "output_type": "execute_result"
    }
   ],
   "source": [
    "df.shape"
   ]
  },
  {
   "cell_type": "code",
   "execution_count": 12,
   "metadata": {
    "execution": {
     "iopub.execute_input": "2025-04-02T17:43:34.554294Z",
     "iopub.status.busy": "2025-04-02T17:43:34.554062Z",
     "iopub.status.idle": "2025-04-02T17:43:52.041072Z",
     "shell.execute_reply": "2025-04-02T17:43:52.040014Z",
     "shell.execute_reply.started": "2025-04-02T17:43:34.554276Z"
    },
    "trusted": true
   },
   "outputs": [],
   "source": [
    "from keras.models import Sequential\n",
    "from keras.layers import Dense\n",
    "from keras.layers import Dropout\n",
    "from keras.optimizers import Adam\n",
    "from keras.utils import to_categorical\n",
    "from keras.callbacks import EarlyStopping, TensorBoard\n",
    "import keras_tuner as kt"
   ]
  },
  {
   "cell_type": "code",
   "execution_count": 13,
   "metadata": {
    "execution": {
     "iopub.execute_input": "2025-04-02T17:43:52.043361Z",
     "iopub.status.busy": "2025-04-02T17:43:52.042773Z",
     "iopub.status.idle": "2025-04-02T17:43:52.047301Z",
     "shell.execute_reply": "2025-04-02T17:43:52.046373Z",
     "shell.execute_reply.started": "2025-04-02T17:43:52.043336Z"
    },
    "trusted": true
   },
   "outputs": [],
   "source": [
    "# Train-Test\n",
    "from sklearn.model_selection import train_test_split\n",
    "# Classification Report\n",
    "from sklearn.metrics import confusion_matrix, precision_recall_fscore_support\n",
    "\n",
    "import pickle\n",
    "\n",
    "import warnings\n",
    "warnings.filterwarnings('ignore')"
   ]
  },
  {
   "cell_type": "code",
   "execution_count": 14,
   "metadata": {
    "execution": {
     "iopub.execute_input": "2025-04-02T17:43:52.048469Z",
     "iopub.status.busy": "2025-04-02T17:43:52.048213Z",
     "iopub.status.idle": "2025-04-02T17:43:52.137976Z",
     "shell.execute_reply": "2025-04-02T17:43:52.137185Z",
     "shell.execute_reply.started": "2025-04-02T17:43:52.048446Z"
    },
    "trusted": true
   },
   "outputs": [
    {
     "name": "stdout",
     "output_type": "stream",
     "text": [
      "Training set shape: (80500, 27) (80500,)\n",
      "Testing set shape: (34500, 27) (34500,)\n"
     ]
    }
   ],
   "source": [
    "X = df.iloc[:, :-1]  # Features (all columns except last)\n",
    "y = df.iloc[:, -1]   # Target (last column)\n",
    "\n",
    "# Split dataset into 70% training and 30% testing\n",
    "X_train, X_test, y_train, y_test = train_test_split(X, y, test_size=0.3, random_state=42)\n",
    "\n",
    "# Print shapes\n",
    "print(\"Training set shape:\", X_train.shape, y_train.shape)\n",
    "print(\"Testing set shape:\", X_test.shape, y_test.shape)"
   ]
  },
  {
   "cell_type": "markdown",
   "metadata": {},
   "source": [
    "BUILD MODEL"
   ]
  },
  {
   "cell_type": "markdown",
   "metadata": {},
   "source": [
    "3.1. Set up"
   ]
  },
  {
   "cell_type": "code",
   "execution_count": 15,
   "metadata": {
    "execution": {
     "iopub.execute_input": "2025-04-02T17:43:52.139053Z",
     "iopub.status.busy": "2025-04-02T17:43:52.138815Z",
     "iopub.status.idle": "2025-04-02T17:43:52.143844Z",
     "shell.execute_reply": "2025-04-02T17:43:52.142979Z",
     "shell.execute_reply.started": "2025-04-02T17:43:52.139033Z"
    },
    "trusted": true
   },
   "outputs": [],
   "source": [
    "# Keras\n",
    "from keras.models import Sequential\n",
    "from keras.layers import Dense\n",
    "from keras.layers import Dropout\n",
    "from keras.optimizers import Adam\n",
    "from keras.utils import to_categorical\n",
    "from keras.callbacks import EarlyStopping, TensorBoard\n",
    "import keras_tuner as kt\n",
    "stop_early = EarlyStopping(monitor='val_loss', patience=3)\n",
    "\n",
    "# Final Results\n",
    "final_models = {}"
   ]
  },
  {
   "cell_type": "code",
   "execution_count": 16,
   "metadata": {
    "execution": {
     "iopub.execute_input": "2025-04-02T17:43:52.145283Z",
     "iopub.status.busy": "2025-04-02T17:43:52.144964Z",
     "iopub.status.idle": "2025-04-02T17:43:52.166564Z",
     "shell.execute_reply": "2025-04-02T17:43:52.165621Z",
     "shell.execute_reply.started": "2025-04-02T17:43:52.145243Z"
    },
    "trusted": true
   },
   "outputs": [],
   "source": [
    "def describe_model(model):\n",
    "    '''\n",
    "    Describe Model architecture\n",
    "    '''\n",
    "    print(f\"Describe models architecture\")\n",
    "    for i, layer in enumerate(model.layers):\n",
    "        number_of_units = layer.units if hasattr(layer, 'units') else 0\n",
    "\n",
    "        if hasattr(layer, \"activation\"):\n",
    "            print(f\"Layer-{i + 1}: {number_of_units} units, func: \", layer.activation)\n",
    "        else:\n",
    "            print(f\"Layer-{i + 1}: {number_of_units} units, func: None\")\n",
    "\n",
    "\n",
    "def get_best_model(tuner):\n",
    "    '''\n",
    "    Describe and return the best model found from keras tuner\n",
    "    '''\n",
    "    best_hps = tuner.get_best_hyperparameters(num_trials=1)[0]\n",
    "    best_model = tuner.hypermodel.build(best_hps)\n",
    "\n",
    "    describe_model(best_model)\n",
    "\n",
    "    print(\"\\nOther params:\")\n",
    "    ignore_params = [\"tuner\", \"activation\", \"layer\", \"epoch\"]\n",
    "    for param, value in best_hps.values.items():\n",
    "        if not any(word in param for word in ignore_params):\n",
    "            print(f\"{param}: {value}\")\n",
    "\n",
    "    return best_model"
   ]
  },
  {
   "cell_type": "markdown",
   "metadata": {},
   "source": [
    "3.2. Model with 3 layers"
   ]
  },
  {
   "cell_type": "code",
   "execution_count": 17,
   "metadata": {
    "execution": {
     "iopub.execute_input": "2025-04-02T17:43:52.167900Z",
     "iopub.status.busy": "2025-04-02T17:43:52.167567Z",
     "iopub.status.idle": "2025-04-02T17:43:52.184239Z",
     "shell.execute_reply": "2025-04-02T17:43:52.183508Z",
     "shell.execute_reply.started": "2025-04-02T17:43:52.167864Z"
    },
    "trusted": true
   },
   "outputs": [
    {
     "name": "stdout",
     "output_type": "stream",
     "text": [
      "X_train shape: (80500, 27)\n"
     ]
    }
   ],
   "source": [
    "print(\"X_train shape:\", X_train.shape)  # Should be (num_samples, num_features)"
   ]
  },
  {
   "cell_type": "code",
   "execution_count": 18,
   "metadata": {
    "execution": {
     "iopub.execute_input": "2025-04-02T17:43:52.185490Z",
     "iopub.status.busy": "2025-04-02T17:43:52.185152Z",
     "iopub.status.idle": "2025-04-02T17:43:52.283888Z",
     "shell.execute_reply": "2025-04-02T17:43:52.283171Z",
     "shell.execute_reply.started": "2025-04-02T17:43:52.185459Z"
    },
    "trusted": true
   },
   "outputs": [],
   "source": [
    "from tensorflow.keras.utils import to_categorical\n",
    "\n",
    "# Convert labels to one-hot encoding\n",
    "y_train = to_categorical(y_train, num_classes=2)\n",
    "y_test = to_categorical(y_test, num_classes=2)\n"
   ]
  },
  {
   "cell_type": "code",
   "execution_count": 19,
   "metadata": {
    "execution": {
     "iopub.execute_input": "2025-04-02T17:43:52.285016Z",
     "iopub.status.busy": "2025-04-02T17:43:52.284768Z",
     "iopub.status.idle": "2025-04-02T17:43:52.290523Z",
     "shell.execute_reply": "2025-04-02T17:43:52.289760Z",
     "shell.execute_reply.started": "2025-04-02T17:43:52.284994Z"
    },
    "trusted": true
   },
   "outputs": [],
   "source": [
    "def model_3l_builder(hp):\n",
    "    model = Sequential()\n",
    "    model.add(Dense(27, input_dim=27, activation=\"relu\"))  # Change 36 to 27\n",
    "\n",
    "    hp_activation = hp.Choice('activation', values=['relu', 'tanh'])\n",
    "    hp_layer_1 = hp.Int('layer_1', min_value=32, max_value=512, step=32)\n",
    "    hp_learning_rate = hp.Choice('learning_rate', values=[1e-2, 1e-3, 1e-4])\n",
    "\n",
    "    model.add(Dense(units=hp_layer_1, activation=hp_activation))\n",
    "    model.add(Dense(2, activation=\"softmax\"))\n",
    "\n",
    "    model.compile(optimizer=Adam(learning_rate=hp_learning_rate), \n",
    "                  loss=\"categorical_crossentropy\", \n",
    "                  metrics=[\"accuracy\"])\n",
    "    \n",
    "    return model\n"
   ]
  },
  {
   "cell_type": "code",
   "execution_count": 20,
   "metadata": {
    "execution": {
     "iopub.execute_input": "2025-04-02T17:43:52.291795Z",
     "iopub.status.busy": "2025-04-02T17:43:52.291491Z",
     "iopub.status.idle": "2025-04-02T17:56:44.172239Z",
     "shell.execute_reply": "2025-04-02T17:56:44.171493Z",
     "shell.execute_reply.started": "2025-04-02T17:43:52.291759Z"
    },
    "trusted": true
   },
   "outputs": [
    {
     "name": "stdout",
     "output_type": "stream",
     "text": [
      "Trial 30 Complete [00h 01m 03s]\n",
      "val_accuracy: 0.99924635887146\n",
      "\n",
      "Best val_accuracy So Far: 0.9995942115783691\n",
      "Total elapsed time: 00h 12m 48s\n"
     ]
    }
   ],
   "source": [
    "tuner_3l = kt.Hyperband(\n",
    "    model_3l_builder,\n",
    "    objective='val_accuracy',\n",
    "    max_epochs=10,\n",
    "    directory='keras_tuner_dir',\n",
    "    project_name='keras_tuner_demo',\n",
    ")\n",
    "tuner_3l.search(X_train, y_train, validation_data=(X_test, y_test), epochs=10, callbacks=[stop_early])"
   ]
  },
  {
   "cell_type": "code",
   "execution_count": 21,
   "metadata": {
    "execution": {
     "iopub.execute_input": "2025-04-02T17:56:44.173370Z",
     "iopub.status.busy": "2025-04-02T17:56:44.173059Z",
     "iopub.status.idle": "2025-04-02T18:00:50.418128Z",
     "shell.execute_reply": "2025-04-02T18:00:50.416941Z",
     "shell.execute_reply.started": "2025-04-02T17:56:44.173340Z"
    },
    "trusted": true
   },
   "outputs": [
    {
     "name": "stdout",
     "output_type": "stream",
     "text": [
      "Describe models architecture\n",
      "Layer-1: 27 units, func:  <function relu at 0x7904b1f27910>\n",
      "Layer-2: 128 units, func:  <function relu at 0x7904b1f27910>\n",
      "Layer-3: 2 units, func:  <function softmax at 0x79045260af80>\n",
      "\n",
      "Other params:\n",
      "learning_rate: 0.001\n",
      "Epoch 1/100\n",
      "\u001b[1m8050/8050\u001b[0m \u001b[32m━━━━━━━━━━━━━━━━━━━━\u001b[0m\u001b[37m\u001b[0m \u001b[1m21s\u001b[0m 2ms/step - accuracy: 0.9777 - loss: 0.0586 - val_accuracy: 0.9989 - val_loss: 0.0035\n",
      "Epoch 2/100\n",
      "\u001b[1m8050/8050\u001b[0m \u001b[32m━━━━━━━━━━━━━━━━━━━━\u001b[0m\u001b[37m\u001b[0m \u001b[1m15s\u001b[0m 2ms/step - accuracy: 0.9983 - loss: 0.0066 - val_accuracy: 0.9992 - val_loss: 0.0023\n",
      "Epoch 3/100\n",
      "\u001b[1m8050/8050\u001b[0m \u001b[32m━━━━━━━━━━━━━━━━━━━━\u001b[0m\u001b[37m\u001b[0m \u001b[1m18s\u001b[0m 2ms/step - accuracy: 0.9986 - loss: 0.0050 - val_accuracy: 0.9994 - val_loss: 0.0021\n",
      "Epoch 4/100\n",
      "\u001b[1m8050/8050\u001b[0m \u001b[32m━━━━━━━━━━━━━━━━━━━━\u001b[0m\u001b[37m\u001b[0m \u001b[1m19s\u001b[0m 2ms/step - accuracy: 0.9989 - loss: 0.0042 - val_accuracy: 0.9994 - val_loss: 0.0014\n",
      "Epoch 5/100\n",
      "\u001b[1m8050/8050\u001b[0m \u001b[32m━━━━━━━━━━━━━━━━━━━━\u001b[0m\u001b[37m\u001b[0m \u001b[1m18s\u001b[0m 2ms/step - accuracy: 0.9989 - loss: 0.0039 - val_accuracy: 0.9939 - val_loss: 0.0259\n",
      "Epoch 6/100\n",
      "\u001b[1m8050/8050\u001b[0m \u001b[32m━━━━━━━━━━━━━━━━━━━━\u001b[0m\u001b[37m\u001b[0m \u001b[1m15s\u001b[0m 2ms/step - accuracy: 0.9990 - loss: 0.0036 - val_accuracy: 0.9995 - val_loss: 0.0016\n",
      "Epoch 7/100\n",
      "\u001b[1m8050/8050\u001b[0m \u001b[32m━━━━━━━━━━━━━━━━━━━━\u001b[0m\u001b[37m\u001b[0m \u001b[1m18s\u001b[0m 2ms/step - accuracy: 0.9986 - loss: 0.0040 - val_accuracy: 0.9995 - val_loss: 0.0011\n",
      "Epoch 8/100\n",
      "\u001b[1m8050/8050\u001b[0m \u001b[32m━━━━━━━━━━━━━━━━━━━━\u001b[0m\u001b[37m\u001b[0m \u001b[1m19s\u001b[0m 2ms/step - accuracy: 0.9988 - loss: 0.0031 - val_accuracy: 0.9993 - val_loss: 0.0018\n",
      "Epoch 9/100\n",
      "\u001b[1m8050/8050\u001b[0m \u001b[32m━━━━━━━━━━━━━━━━━━━━\u001b[0m\u001b[37m\u001b[0m \u001b[1m16s\u001b[0m 2ms/step - accuracy: 0.9988 - loss: 0.0040 - val_accuracy: 0.9996 - val_loss: 0.0010\n",
      "Epoch 10/100\n",
      "\u001b[1m8050/8050\u001b[0m \u001b[32m━━━━━━━━━━━━━━━━━━━━\u001b[0m\u001b[37m\u001b[0m \u001b[1m17s\u001b[0m 2ms/step - accuracy: 0.9989 - loss: 0.0026 - val_accuracy: 0.9996 - val_loss: 0.0011\n",
      "Epoch 11/100\n",
      "\u001b[1m8050/8050\u001b[0m \u001b[32m━━━━━━━━━━━━━━━━━━━━\u001b[0m\u001b[37m\u001b[0m \u001b[1m19s\u001b[0m 2ms/step - accuracy: 0.9991 - loss: 0.0026 - val_accuracy: 0.9997 - val_loss: 9.3715e-04\n",
      "Epoch 12/100\n",
      "\u001b[1m8050/8050\u001b[0m \u001b[32m━━━━━━━━━━━━━━━━━━━━\u001b[0m\u001b[37m\u001b[0m \u001b[1m19s\u001b[0m 2ms/step - accuracy: 0.9992 - loss: 0.0026 - val_accuracy: 0.9994 - val_loss: 0.0015\n",
      "Epoch 13/100\n",
      "\u001b[1m8050/8050\u001b[0m \u001b[32m━━━━━━━━━━━━━━━━━━━━\u001b[0m\u001b[37m\u001b[0m \u001b[1m16s\u001b[0m 2ms/step - accuracy: 0.9993 - loss: 0.0024 - val_accuracy: 0.9993 - val_loss: 0.0013\n",
      "Epoch 14/100\n",
      "\u001b[1m8050/8050\u001b[0m \u001b[32m━━━━━━━━━━━━━━━━━━━━\u001b[0m\u001b[37m\u001b[0m \u001b[1m17s\u001b[0m 2ms/step - accuracy: 0.9991 - loss: 0.0023 - val_accuracy: 0.9997 - val_loss: 0.0012\n"
     ]
    },
    {
     "data": {
      "text/plain": [
       "<keras.src.callbacks.history.History at 0x790398e6bc40>"
      ]
     },
     "execution_count": 21,
     "metadata": {},
     "output_type": "execute_result"
    }
   ],
   "source": [
    "model_3l = get_best_model(tuner_3l)\n",
    "model_3l.fit(X_train, y_train, epochs=100, batch_size=10, validation_data=(X_test, y_test), callbacks=[stop_early])"
   ]
  },
  {
   "cell_type": "code",
   "execution_count": 22,
   "metadata": {
    "execution": {
     "iopub.execute_input": "2025-04-02T18:00:50.419712Z",
     "iopub.status.busy": "2025-04-02T18:00:50.419344Z",
     "iopub.status.idle": "2025-04-02T18:00:50.423483Z",
     "shell.execute_reply": "2025-04-02T18:00:50.422688Z",
     "shell.execute_reply.started": "2025-04-02T18:00:50.419680Z"
    },
    "trusted": true
   },
   "outputs": [],
   "source": [
    "final_models[\"3_layers\"] = model_3l"
   ]
  },
  {
   "cell_type": "markdown",
   "metadata": {},
   "source": [
    "3.3. Model with 5 layers"
   ]
  },
  {
   "cell_type": "code",
   "execution_count": 23,
   "metadata": {
    "execution": {
     "iopub.execute_input": "2025-04-02T18:00:50.424695Z",
     "iopub.status.busy": "2025-04-02T18:00:50.424435Z",
     "iopub.status.idle": "2025-04-02T18:00:50.445378Z",
     "shell.execute_reply": "2025-04-02T18:00:50.444412Z",
     "shell.execute_reply.started": "2025-04-02T18:00:50.424673Z"
    },
    "trusted": true
   },
   "outputs": [],
   "source": [
    "def model_5l_builder(hp):\n",
    "    model = Sequential()\n",
    "    model.add(Dense(27, input_dim = 27, activation = \"relu\"))\n",
    "\n",
    "    hp_activation = hp.Choice('activation', values=['relu', 'tanh'])\n",
    "    hp_layer_1 = hp.Int('layer_1', min_value=32, max_value=512, step=32)\n",
    "    hp_layer_2 = hp.Int('layer_2', min_value=32, max_value=512, step=32)\n",
    "    hp_layer_3 = hp.Int('layer_3', min_value=32, max_value=512, step=32)\n",
    "    hp_learning_rate = hp.Choice('learning_rate', values=[1e-2, 1e-3, 1e-4])\n",
    "\n",
    "    model.add(Dense(units=hp_layer_1, activation=hp_activation))\n",
    "    model.add(Dense(units=hp_layer_2, activation=hp_activation))\n",
    "    model.add(Dense(units=hp_layer_3, activation=hp_activation))\n",
    "    model.add(Dense(2, activation = \"softmax\"))\n",
    "\n",
    "    model.compile(optimizer=Adam(learning_rate=hp_learning_rate), loss=\"categorical_crossentropy\", metrics = [\"accuracy\"])\n",
    "    \n",
    "    return model"
   ]
  },
  {
   "cell_type": "code",
   "execution_count": 24,
   "metadata": {
    "execution": {
     "iopub.execute_input": "2025-04-02T18:00:50.448818Z",
     "iopub.status.busy": "2025-04-02T18:00:50.448592Z",
     "iopub.status.idle": "2025-04-02T18:17:04.782327Z",
     "shell.execute_reply": "2025-04-02T18:17:04.781513Z",
     "shell.execute_reply.started": "2025-04-02T18:00:50.448799Z"
    },
    "trusted": true
   },
   "outputs": [
    {
     "name": "stdout",
     "output_type": "stream",
     "text": [
      "Trial 30 Complete [00h 00m 39s]\n",
      "val_accuracy: 0.9992173910140991\n",
      "\n",
      "Best val_accuracy So Far: 0.99962317943573\n",
      "Total elapsed time: 00h 16m 14s\n"
     ]
    }
   ],
   "source": [
    "tuner_5l = kt.Hyperband(\n",
    "    model_5l_builder,\n",
    "    objective='val_accuracy',\n",
    "    max_epochs=10,\n",
    "    directory='keras_tuner_dir',\n",
    "    project_name='keras_tuner_demo_2'\n",
    ")\n",
    "tuner_5l.search(X_train, y_train, validation_data=(X_test, y_test), epochs=10, callbacks=[stop_early, TensorBoard(\"./keras_tuner_dir/logs\")])"
   ]
  },
  {
   "cell_type": "code",
   "execution_count": 25,
   "metadata": {
    "execution": {
     "iopub.execute_input": "2025-04-02T18:17:04.783881Z",
     "iopub.status.busy": "2025-04-02T18:17:04.783630Z",
     "iopub.status.idle": "2025-04-02T18:18:11.273149Z",
     "shell.execute_reply": "2025-04-02T18:18:11.272183Z",
     "shell.execute_reply.started": "2025-04-02T18:17:04.783860Z"
    },
    "trusted": true
   },
   "outputs": [
    {
     "name": "stdout",
     "output_type": "stream",
     "text": [
      "Describe models architecture\n",
      "Layer-1: 27 units, func:  <function relu at 0x7904b1f27910>\n",
      "Layer-2: 416 units, func:  <function relu at 0x7904b1f27910>\n",
      "Layer-3: 416 units, func:  <function relu at 0x7904b1f27910>\n",
      "Layer-4: 288 units, func:  <function relu at 0x7904b1f27910>\n",
      "Layer-5: 2 units, func:  <function softmax at 0x79045260af80>\n",
      "\n",
      "Other params:\n",
      "learning_rate: 0.0001\n",
      "Epoch 1/100\n",
      "\u001b[1m8050/8050\u001b[0m \u001b[32m━━━━━━━━━━━━━━━━━━━━\u001b[0m\u001b[37m\u001b[0m \u001b[1m24s\u001b[0m 3ms/step - accuracy: 0.9732 - loss: 0.0709 - val_accuracy: 0.9990 - val_loss: 0.0043\n",
      "Epoch 2/100\n",
      "\u001b[1m8050/8050\u001b[0m \u001b[32m━━━━━━━━━━━━━━━━━━━━\u001b[0m\u001b[37m\u001b[0m \u001b[1m21s\u001b[0m 3ms/step - accuracy: 0.9983 - loss: 0.0078 - val_accuracy: 0.9982 - val_loss: 0.0066\n",
      "Epoch 3/100\n",
      "\u001b[1m8050/8050\u001b[0m \u001b[32m━━━━━━━━━━━━━━━━━━━━\u001b[0m\u001b[37m\u001b[0m \u001b[1m21s\u001b[0m 3ms/step - accuracy: 0.9986 - loss: 0.0050 - val_accuracy: 0.9992 - val_loss: 0.0021\n"
     ]
    },
    {
     "data": {
      "text/plain": [
       "<keras.src.callbacks.history.History at 0x790355a938b0>"
      ]
     },
     "execution_count": 25,
     "metadata": {},
     "output_type": "execute_result"
    }
   ],
   "source": [
    "model_5l = get_best_model(tuner_5l)\n",
    "model_5l.fit(X_train, y_train, epochs=100, batch_size=10, validation_data=(X_test, y_test), callbacks=[stop_early])"
   ]
  },
  {
   "cell_type": "code",
   "execution_count": 26,
   "metadata": {
    "execution": {
     "iopub.execute_input": "2025-04-02T18:18:11.274439Z",
     "iopub.status.busy": "2025-04-02T18:18:11.274144Z",
     "iopub.status.idle": "2025-04-02T18:18:11.278176Z",
     "shell.execute_reply": "2025-04-02T18:18:11.277463Z",
     "shell.execute_reply.started": "2025-04-02T18:18:11.274414Z"
    },
    "trusted": true
   },
   "outputs": [],
   "source": [
    "final_models[\"5_layers\"] = model_5l"
   ]
  },
  {
   "cell_type": "markdown",
   "metadata": {},
   "source": [
    "3.4. Model with 7 layers include Dropout"
   ]
  },
  {
   "cell_type": "code",
   "execution_count": 27,
   "metadata": {
    "execution": {
     "iopub.execute_input": "2025-04-02T18:18:11.278995Z",
     "iopub.status.busy": "2025-04-02T18:18:11.278757Z",
     "iopub.status.idle": "2025-04-02T18:18:11.302275Z",
     "shell.execute_reply": "2025-04-02T18:18:11.301562Z",
     "shell.execute_reply.started": "2025-04-02T18:18:11.278971Z"
    },
    "trusted": true
   },
   "outputs": [],
   "source": [
    "def model_7lD_builder(hp):\n",
    "    model = Sequential()\n",
    "    model.add(Dense(27, input_dim = 27, activation = \"relu\"))\n",
    "\n",
    "    hp_activation = hp.Choice('activation', values=['relu', 'tanh'])\n",
    "    hp_layer_1 = hp.Int('layer_1', min_value=32, max_value=512, step=32)\n",
    "    hp_layer_2 = hp.Int('layer_2', min_value=32, max_value=512, step=32)\n",
    "    hp_layer_3 = hp.Int('layer_3', min_value=32, max_value=512, step=32)\n",
    "    hp_dropout_1 = hp.Float('dropout_1', min_value=0.1, max_value=0.5, step=0.1)\n",
    "    hp_dropout_2 = hp.Float('dropout_2', min_value=0.1, max_value=0.5, step=0.1)\n",
    "    hp_learning_rate = hp.Choice('learning_rate', values=[1e-2, 1e-3, 1e-4])\n",
    "\n",
    "    model.add(Dense(units=hp_layer_1, activation=hp_activation))\n",
    "    model.add(Dropout(rate=hp_dropout_1))\n",
    "    model.add(Dense(units=hp_layer_2, activation=hp_activation))\n",
    "    model.add(Dropout(rate=hp_dropout_2))\n",
    "    model.add(Dense(units=hp_layer_3, activation=hp_activation))\n",
    "    model.add(Dense(2, activation = \"softmax\"))\n",
    "\n",
    "    model.compile(optimizer=Adam(learning_rate=hp_learning_rate), loss=\"categorical_crossentropy\", metrics = [\"accuracy\"])\n",
    "    \n",
    "    return model"
   ]
  },
  {
   "cell_type": "code",
   "execution_count": 28,
   "metadata": {
    "execution": {
     "iopub.execute_input": "2025-04-02T18:18:11.303441Z",
     "iopub.status.busy": "2025-04-02T18:18:11.303183Z",
     "iopub.status.idle": "2025-04-02T18:35:53.152410Z",
     "shell.execute_reply": "2025-04-02T18:35:53.151505Z",
     "shell.execute_reply.started": "2025-04-02T18:18:11.303411Z"
    },
    "trusted": true
   },
   "outputs": [
    {
     "name": "stdout",
     "output_type": "stream",
     "text": [
      "Trial 30 Complete [00h 00m 43s]\n",
      "accuracy: 0.9976397752761841\n",
      "\n",
      "Best accuracy So Far: 0.9989565014839172\n",
      "Total elapsed time: 00h 17m 42s\n"
     ]
    }
   ],
   "source": [
    "tuner_7lD = kt.Hyperband(\n",
    "    model_7lD_builder,\n",
    "    objective='accuracy',\n",
    "    max_epochs=10,\n",
    "    directory='keras_tuner_dir',\n",
    "    project_name='keras_tuner_demo_3'\n",
    ")\n",
    "tuner_7lD.search(X_train, y_train, validation_data=(X_test, y_test), epochs=10, callbacks=[stop_early, TensorBoard(\"./keras_tuner_dir/logs\")])"
   ]
  },
  {
   "cell_type": "code",
   "execution_count": 29,
   "metadata": {
    "execution": {
     "iopub.execute_input": "2025-04-02T18:35:53.153546Z",
     "iopub.status.busy": "2025-04-02T18:35:53.153240Z",
     "iopub.status.idle": "2025-04-02T18:36:59.991266Z",
     "shell.execute_reply": "2025-04-02T18:36:59.990485Z",
     "shell.execute_reply.started": "2025-04-02T18:35:53.153510Z"
    },
    "trusted": true
   },
   "outputs": [
    {
     "name": "stdout",
     "output_type": "stream",
     "text": [
      "Describe models architecture\n",
      "Layer-1: 27 units, func:  <function relu at 0x7904b1f27910>\n",
      "Layer-2: 256 units, func:  <function relu at 0x7904b1f27910>\n",
      "Layer-3: 0 units, func: None\n",
      "Layer-4: 128 units, func:  <function relu at 0x7904b1f27910>\n",
      "Layer-5: 0 units, func: None\n",
      "Layer-6: 512 units, func:  <function relu at 0x7904b1f27910>\n",
      "Layer-7: 2 units, func:  <function softmax at 0x79045260af80>\n",
      "\n",
      "Other params:\n",
      "dropout_1: 0.5\n",
      "dropout_2: 0.1\n",
      "learning_rate: 0.0001\n",
      "Epoch 1/100\n",
      "\u001b[1m8050/8050\u001b[0m \u001b[32m━━━━━━━━━━━━━━━━━━━━\u001b[0m\u001b[37m\u001b[0m \u001b[1m25s\u001b[0m 2ms/step - accuracy: 0.9282 - loss: 0.1515 - val_accuracy: 0.9975 - val_loss: 0.0094\n",
      "Epoch 2/100\n",
      "\u001b[1m8050/8050\u001b[0m \u001b[32m━━━━━━━━━━━━━━━━━━━━\u001b[0m\u001b[37m\u001b[0m \u001b[1m20s\u001b[0m 2ms/step - accuracy: 0.9978 - loss: 0.0092 - val_accuracy: 0.9990 - val_loss: 0.0031\n",
      "Epoch 3/100\n",
      "\u001b[1m8050/8050\u001b[0m \u001b[32m━━━━━━━━━━━━━━━━━━━━\u001b[0m\u001b[37m\u001b[0m \u001b[1m21s\u001b[0m 3ms/step - accuracy: 0.9983 - loss: 0.0067 - val_accuracy: 0.9993 - val_loss: 0.0020\n"
     ]
    },
    {
     "data": {
      "text/plain": [
       "<keras.src.callbacks.history.History at 0x7903352a2dd0>"
      ]
     },
     "execution_count": 29,
     "metadata": {},
     "output_type": "execute_result"
    }
   ],
   "source": [
    "model_7lD = get_best_model(tuner_7lD)\n",
    "model_7lD.fit(X_train, y_train, epochs=100, batch_size=10, validation_data=(X_test, y_test), callbacks=[stop_early])"
   ]
  },
  {
   "cell_type": "code",
   "execution_count": 30,
   "metadata": {
    "execution": {
     "iopub.execute_input": "2025-04-02T18:36:59.992400Z",
     "iopub.status.busy": "2025-04-02T18:36:59.992059Z",
     "iopub.status.idle": "2025-04-02T18:36:59.996037Z",
     "shell.execute_reply": "2025-04-02T18:36:59.995302Z",
     "shell.execute_reply.started": "2025-04-02T18:36:59.992362Z"
    },
    "trusted": true
   },
   "outputs": [],
   "source": [
    "final_models[\"7_layers_with_dropout\"] = model_7lD"
   ]
  },
  {
   "cell_type": "markdown",
   "metadata": {},
   "source": [
    "3.5. Model with 7 layers"
   ]
  },
  {
   "cell_type": "code",
   "execution_count": 31,
   "metadata": {
    "execution": {
     "iopub.execute_input": "2025-04-02T18:36:59.997225Z",
     "iopub.status.busy": "2025-04-02T18:36:59.996897Z",
     "iopub.status.idle": "2025-04-02T18:37:00.015292Z",
     "shell.execute_reply": "2025-04-02T18:37:00.014555Z",
     "shell.execute_reply.started": "2025-04-02T18:36:59.997184Z"
    },
    "trusted": true
   },
   "outputs": [],
   "source": [
    "def model_7l_builder(hp):\n",
    "    model = Sequential()\n",
    "    model.add(Dense(27, input_dim = 27, activation = \"relu\"))\n",
    "\n",
    "    hp_activation = hp.Choice('activation', values=['relu', 'tanh'])\n",
    "    hp_layer_1 = hp.Int('layer_1', min_value=32, max_value=512, step=32)\n",
    "    hp_layer_2 = hp.Int('layer_2', min_value=32, max_value=512, step=32)\n",
    "    hp_layer_3 = hp.Int('layer_3', min_value=32, max_value=512, step=32)\n",
    "    hp_layer_4 = hp.Int('layer_4', min_value=32, max_value=512, step=32)\n",
    "    hp_layer_5 = hp.Int('layer_5', min_value=32, max_value=512, step=32)\n",
    "    hp_learning_rate = hp.Choice('learning_rate', values=[1e-2, 1e-3, 1e-4])\n",
    "\n",
    "    model.add(Dense(units=hp_layer_1, activation=hp_activation))\n",
    "    model.add(Dense(units=hp_layer_2, activation=hp_activation))\n",
    "    model.add(Dense(units=hp_layer_3, activation=hp_activation))\n",
    "    model.add(Dense(units=hp_layer_4, activation=hp_activation))\n",
    "    model.add(Dense(units=hp_layer_5, activation=hp_activation))\n",
    "    model.add(Dense(2, activation = \"softmax\"))\n",
    "\n",
    "    model.compile(optimizer=Adam(learning_rate=hp_learning_rate), loss=\"categorical_crossentropy\", metrics = [\"accuracy\"])\n",
    "    \n",
    "    return model"
   ]
  },
  {
   "cell_type": "code",
   "execution_count": 32,
   "metadata": {
    "execution": {
     "iopub.execute_input": "2025-04-02T18:37:00.016130Z",
     "iopub.status.busy": "2025-04-02T18:37:00.015884Z",
     "iopub.status.idle": "2025-04-02T19:00:14.253448Z",
     "shell.execute_reply": "2025-04-02T19:00:14.252695Z",
     "shell.execute_reply.started": "2025-04-02T18:37:00.016083Z"
    },
    "trusted": true
   },
   "outputs": [
    {
     "name": "stdout",
     "output_type": "stream",
     "text": [
      "Trial 30 Complete [00h 00m 42s]\n",
      "val_accuracy: 0.9995072484016418\n",
      "\n",
      "Best val_accuracy So Far: 0.9995072484016418\n",
      "Total elapsed time: 00h 23m 14s\n"
     ]
    }
   ],
   "source": [
    "tuner_7l = kt.Hyperband(\n",
    "    model_7l_builder,\n",
    "    objective='val_accuracy',\n",
    "    max_epochs=10,\n",
    "    directory='keras_tuner_dir',\n",
    "    project_name='keras_tuner_demo_6'\n",
    ")\n",
    "tuner_7l.search(X_train, y_train, validation_data=(X_test, y_test), epochs=10, callbacks=[stop_early, TensorBoard(\"./keras_tuner_dir/logs\")])"
   ]
  },
  {
   "cell_type": "code",
   "execution_count": 33,
   "metadata": {
    "execution": {
     "iopub.execute_input": "2025-04-02T19:00:14.254565Z",
     "iopub.status.busy": "2025-04-02T19:00:14.254313Z",
     "iopub.status.idle": "2025-04-02T19:01:16.173897Z",
     "shell.execute_reply": "2025-04-02T19:01:16.173222Z",
     "shell.execute_reply.started": "2025-04-02T19:00:14.254543Z"
    },
    "trusted": true
   },
   "outputs": [
    {
     "name": "stdout",
     "output_type": "stream",
     "text": [
      "Describe models architecture\n",
      "Layer-1: 27 units, func:  <function relu at 0x7904b1f27910>\n",
      "Layer-2: 160 units, func:  <function tanh at 0x79045260b370>\n",
      "Layer-3: 160 units, func:  <function tanh at 0x79045260b370>\n",
      "Layer-4: 96 units, func:  <function tanh at 0x79045260b370>\n",
      "Layer-5: 32 units, func:  <function tanh at 0x79045260b370>\n",
      "Layer-6: 320 units, func:  <function tanh at 0x79045260b370>\n",
      "Layer-7: 2 units, func:  <function softmax at 0x79045260af80>\n",
      "\n",
      "Other params:\n",
      "learning_rate: 0.001\n",
      "Epoch 1/100\n",
      "\u001b[1m8050/8050\u001b[0m \u001b[32m━━━━━━━━━━━━━━━━━━━━\u001b[0m\u001b[37m\u001b[0m \u001b[1m27s\u001b[0m 3ms/step - accuracy: 0.9877 - loss: 0.0381 - val_accuracy: 0.9991 - val_loss: 0.0056\n",
      "Epoch 2/100\n",
      "\u001b[1m8050/8050\u001b[0m \u001b[32m━━━━━━━━━━━━━━━━━━━━\u001b[0m\u001b[37m\u001b[0m \u001b[1m18s\u001b[0m 2ms/step - accuracy: 0.9975 - loss: 0.0132 - val_accuracy: 0.9987 - val_loss: 0.0056\n",
      "Epoch 3/100\n",
      "\u001b[1m8050/8050\u001b[0m \u001b[32m━━━━━━━━━━━━━━━━━━━━\u001b[0m\u001b[37m\u001b[0m \u001b[1m17s\u001b[0m 2ms/step - accuracy: 0.9980 - loss: 0.0104 - val_accuracy: 0.9991 - val_loss: 0.0046\n"
     ]
    },
    {
     "data": {
      "text/plain": [
       "<keras.src.callbacks.history.History at 0x7902ecdc2080>"
      ]
     },
     "execution_count": 33,
     "metadata": {},
     "output_type": "execute_result"
    }
   ],
   "source": [
    "model_7l = get_best_model(tuner_7l)\n",
    "model_7l.fit(X_train, y_train, epochs=100, batch_size=10, validation_data=(X_test, y_test), callbacks=[stop_early])"
   ]
  },
  {
   "cell_type": "code",
   "execution_count": 34,
   "metadata": {
    "execution": {
     "iopub.execute_input": "2025-04-02T19:01:16.175085Z",
     "iopub.status.busy": "2025-04-02T19:01:16.174766Z",
     "iopub.status.idle": "2025-04-02T19:01:16.178510Z",
     "shell.execute_reply": "2025-04-02T19:01:16.177622Z",
     "shell.execute_reply.started": "2025-04-02T19:01:16.175057Z"
    },
    "trusted": true
   },
   "outputs": [],
   "source": [
    "final_models[\"7_layers\"] = model_7l"
   ]
  },
  {
   "cell_type": "markdown",
   "metadata": {},
   "source": [
    "3.6. Describe final models"
   ]
  },
  {
   "cell_type": "code",
   "execution_count": 35,
   "metadata": {
    "execution": {
     "iopub.execute_input": "2025-04-02T19:01:16.179737Z",
     "iopub.status.busy": "2025-04-02T19:01:16.179474Z",
     "iopub.status.idle": "2025-04-02T19:01:16.203748Z",
     "shell.execute_reply": "2025-04-02T19:01:16.203135Z",
     "shell.execute_reply.started": "2025-04-02T19:01:16.179708Z"
    },
    "trusted": true
   },
   "outputs": [
    {
     "name": "stdout",
     "output_type": "stream",
     "text": [
      "3_layers: Describe models architecture\n",
      "Layer-1: 27 units, func:  <function relu at 0x7904b1f27910>\n",
      "Layer-2: 128 units, func:  <function relu at 0x7904b1f27910>\n",
      "Layer-3: 2 units, func:  <function softmax at 0x79045260af80>\n",
      "\n",
      "5_layers: Describe models architecture\n",
      "Layer-1: 27 units, func:  <function relu at 0x7904b1f27910>\n",
      "Layer-2: 416 units, func:  <function relu at 0x7904b1f27910>\n",
      "Layer-3: 416 units, func:  <function relu at 0x7904b1f27910>\n",
      "Layer-4: 288 units, func:  <function relu at 0x7904b1f27910>\n",
      "Layer-5: 2 units, func:  <function softmax at 0x79045260af80>\n",
      "\n",
      "7_layers_with_dropout: Describe models architecture\n",
      "Layer-1: 27 units, func:  <function relu at 0x7904b1f27910>\n",
      "Layer-2: 256 units, func:  <function relu at 0x7904b1f27910>\n",
      "Layer-3: 0 units, func: None\n",
      "Layer-4: 128 units, func:  <function relu at 0x7904b1f27910>\n",
      "Layer-5: 0 units, func: None\n",
      "Layer-6: 512 units, func:  <function relu at 0x7904b1f27910>\n",
      "Layer-7: 2 units, func:  <function softmax at 0x79045260af80>\n",
      "\n",
      "7_layers: Describe models architecture\n",
      "Layer-1: 27 units, func:  <function relu at 0x7904b1f27910>\n",
      "Layer-2: 160 units, func:  <function tanh at 0x79045260b370>\n",
      "Layer-3: 160 units, func:  <function tanh at 0x79045260b370>\n",
      "Layer-4: 96 units, func:  <function tanh at 0x79045260b370>\n",
      "Layer-5: 32 units, func:  <function tanh at 0x79045260b370>\n",
      "Layer-6: 320 units, func:  <function tanh at 0x79045260b370>\n",
      "Layer-7: 2 units, func:  <function softmax at 0x79045260af80>\n",
      "\n"
     ]
    }
   ],
   "source": [
    "for name, model in final_models.items():\n",
    "    print(f\"{name}: \", end=\"\")\n",
    "    describe_model(model)\n",
    "    print()"
   ]
  },
  {
   "cell_type": "markdown",
   "metadata": {},
   "source": [
    "4. Model Evaluation\n",
    "4.1. Train set evaluation"
   ]
  },
  {
   "cell_type": "code",
   "execution_count": 36,
   "metadata": {
    "execution": {
     "iopub.execute_input": "2025-04-02T19:01:16.204682Z",
     "iopub.status.busy": "2025-04-02T19:01:16.204496Z",
     "iopub.status.idle": "2025-04-02T19:01:24.697578Z",
     "shell.execute_reply": "2025-04-02T19:01:24.696711Z",
     "shell.execute_reply.started": "2025-04-02T19:01:16.204665Z"
    },
    "trusted": true
   },
   "outputs": [
    {
     "data": {
      "text/html": [
       "<div>\n",
       "<style scoped>\n",
       "    .dataframe tbody tr th:only-of-type {\n",
       "        vertical-align: middle;\n",
       "    }\n",
       "\n",
       "    .dataframe tbody tr th {\n",
       "        vertical-align: top;\n",
       "    }\n",
       "\n",
       "    .dataframe thead th {\n",
       "        text-align: right;\n",
       "    }\n",
       "</style>\n",
       "<table border=\"1\" class=\"dataframe\">\n",
       "  <thead>\n",
       "    <tr style=\"text-align: right;\">\n",
       "      <th></th>\n",
       "      <th>Model</th>\n",
       "      <th>Precision Score</th>\n",
       "      <th>Recall Score</th>\n",
       "      <th>F1 score</th>\n",
       "      <th>Confusion Matrix</th>\n",
       "    </tr>\n",
       "  </thead>\n",
       "  <tbody>\n",
       "    <tr>\n",
       "      <th>0</th>\n",
       "      <td>3_layers</td>\n",
       "      <td>[0.9997, 0.9997]</td>\n",
       "      <td>[0.9998, 0.9995]</td>\n",
       "      <td>[0.9997, 0.9996]</td>\n",
       "      <td>[[20536, 4], [7, 13953]]</td>\n",
       "    </tr>\n",
       "    <tr>\n",
       "      <th>1</th>\n",
       "      <td>7_layers_with_dropout</td>\n",
       "      <td>[0.9991, 0.9997]</td>\n",
       "      <td>[0.9998, 0.9986]</td>\n",
       "      <td>[0.9994, 0.9992]</td>\n",
       "      <td>[[20536, 4], [19, 13941]]</td>\n",
       "    </tr>\n",
       "    <tr>\n",
       "      <th>2</th>\n",
       "      <td>5_layers</td>\n",
       "      <td>[0.9987, 0.9999]</td>\n",
       "      <td>[1.0, 0.9981]</td>\n",
       "      <td>[0.9993, 0.999]</td>\n",
       "      <td>[[20539, 1], [27, 13933]]</td>\n",
       "    </tr>\n",
       "    <tr>\n",
       "      <th>3</th>\n",
       "      <td>7_layers</td>\n",
       "      <td>[0.9986, 0.9999]</td>\n",
       "      <td>[0.9999, 0.998]</td>\n",
       "      <td>[0.9993, 0.9989]</td>\n",
       "      <td>[[20538, 2], [28, 13932]]</td>\n",
       "    </tr>\n",
       "  </tbody>\n",
       "</table>\n",
       "</div>"
      ],
      "text/plain": [
       "                   Model   Precision Score      Recall Score  \\\n",
       "0               3_layers  [0.9997, 0.9997]  [0.9998, 0.9995]   \n",
       "1  7_layers_with_dropout  [0.9991, 0.9997]  [0.9998, 0.9986]   \n",
       "2               5_layers  [0.9987, 0.9999]     [1.0, 0.9981]   \n",
       "3               7_layers  [0.9986, 0.9999]   [0.9999, 0.998]   \n",
       "\n",
       "           F1 score           Confusion Matrix  \n",
       "0  [0.9997, 0.9996]   [[20536, 4], [7, 13953]]  \n",
       "1  [0.9994, 0.9992]  [[20536, 4], [19, 13941]]  \n",
       "2   [0.9993, 0.999]  [[20539, 1], [27, 13933]]  \n",
       "3  [0.9993, 0.9989]  [[20538, 2], [28, 13932]]  "
      ]
     },
     "execution_count": 36,
     "metadata": {},
     "output_type": "execute_result"
    }
   ],
   "source": [
    "from sklearn.metrics import confusion_matrix, precision_recall_fscore_support\n",
    "\n",
    "# Function to round metric results\n",
    "def round_up_metric_results(scores, decimals=4):\n",
    "    return [round(score, decimals) for score in scores]\n",
    "train_set_results = []\n",
    "\n",
    "for name, model in final_models.items():\n",
    "    # Evaluate model\n",
    "    predict_x = model.predict(X_test, verbose=False) \n",
    "    y_pred_class = np.argmax(predict_x, axis=1)\n",
    "    y_test_class = np.argmax(y_test, axis=1)\n",
    "\n",
    "    cm = confusion_matrix(y_test_class, y_pred_class, labels=[0, 1])\n",
    "    (p_score, r_score, f_score, _) = precision_recall_fscore_support(y_test_class, y_pred_class, labels=[0, 1])\n",
    "    \n",
    "    train_set_results.append(( name, round_up_metric_results(p_score), round_up_metric_results(r_score), round_up_metric_results(f_score), cm ))\n",
    "\n",
    "train_set_results.sort(key=lambda k: sum(k[3]), reverse=True)\n",
    "pd.DataFrame(train_set_results, columns=[\"Model\", \"Precision Score\", \"Recall Score\", \"F1 score\", \"Confusion Matrix\"])"
   ]
  },
  {
   "cell_type": "markdown",
   "metadata": {},
   "source": [
    "4.2. Test set evaluation"
   ]
  },
  {
   "cell_type": "code",
   "execution_count": 38,
   "metadata": {
    "execution": {
     "iopub.execute_input": "2025-04-02T19:10:04.597722Z",
     "iopub.status.busy": "2025-04-02T19:10:04.597437Z",
     "iopub.status.idle": "2025-04-02T19:10:04.978455Z",
     "shell.execute_reply": "2025-04-02T19:10:04.977666Z",
     "shell.execute_reply.started": "2025-04-02T19:10:04.597700Z"
    },
    "trusted": true
   },
   "outputs": [],
   "source": [
    "# load dataset\n",
    "test_df = pd.read_csv(\"/kaggle/input/train-and-test-dataset/test.csv\")"
   ]
  },
  {
   "cell_type": "code",
   "execution_count": 40,
   "metadata": {
    "execution": {
     "iopub.execute_input": "2025-04-02T19:24:48.518797Z",
     "iopub.status.busy": "2025-04-02T19:24:48.518483Z",
     "iopub.status.idle": "2025-04-02T19:24:48.524855Z",
     "shell.execute_reply": "2025-04-02T19:24:48.523945Z",
     "shell.execute_reply.started": "2025-04-02T19:24:48.518774Z"
    },
    "trusted": true
   },
   "outputs": [],
   "source": [
    "test_x = test_df.drop(\"label\", axis = 1)"
   ]
  },
  {
   "cell_type": "code",
   "execution_count": 41,
   "metadata": {
    "execution": {
     "iopub.execute_input": "2025-04-02T19:25:10.968063Z",
     "iopub.status.busy": "2025-04-02T19:25:10.967760Z",
     "iopub.status.idle": "2025-04-02T19:25:10.971797Z",
     "shell.execute_reply": "2025-04-02T19:25:10.971114Z",
     "shell.execute_reply.started": "2025-04-02T19:25:10.968040Z"
    },
    "trusted": true
   },
   "outputs": [],
   "source": [
    "test_y = test_df[\"label\"]"
   ]
  },
  {
   "cell_type": "code",
   "execution_count": 46,
   "metadata": {
    "execution": {
     "iopub.execute_input": "2025-04-02T19:35:12.650030Z",
     "iopub.status.busy": "2025-04-02T19:35:12.649633Z",
     "iopub.status.idle": "2025-04-02T19:35:17.913967Z",
     "shell.execute_reply": "2025-04-02T19:35:17.913018Z",
     "shell.execute_reply.started": "2025-04-02T19:35:12.650003Z"
    },
    "trusted": true
   },
   "outputs": [
    {
     "data": {
      "text/html": [
       "<div>\n",
       "<style scoped>\n",
       "    .dataframe tbody tr th:only-of-type {\n",
       "        vertical-align: middle;\n",
       "    }\n",
       "\n",
       "    .dataframe tbody tr th {\n",
       "        vertical-align: top;\n",
       "    }\n",
       "\n",
       "    .dataframe thead th {\n",
       "        text-align: right;\n",
       "    }\n",
       "</style>\n",
       "<table border=\"1\" class=\"dataframe\">\n",
       "  <thead>\n",
       "    <tr style=\"text-align: right;\">\n",
       "      <th></th>\n",
       "      <th>Model</th>\n",
       "      <th>Precision Score</th>\n",
       "      <th>Recall Score</th>\n",
       "      <th>F1 score</th>\n",
       "      <th>Confusion Matrix</th>\n",
       "    </tr>\n",
       "  </thead>\n",
       "  <tbody>\n",
       "    <tr>\n",
       "      <th>0</th>\n",
       "      <td>3_layers</td>\n",
       "      <td>[0.9996, 0.9991]</td>\n",
       "      <td>[0.9994, 0.9995]</td>\n",
       "      <td>[0.9995, 0.9993]</td>\n",
       "      <td>[[17121, 10], [6, 11614]]</td>\n",
       "    </tr>\n",
       "    <tr>\n",
       "      <th>1</th>\n",
       "      <td>7_layers_with_dropout</td>\n",
       "      <td>[0.9993, 0.999]</td>\n",
       "      <td>[0.9993, 0.999]</td>\n",
       "      <td>[0.9993, 0.999]</td>\n",
       "      <td>[[17119, 12], [12, 11608]]</td>\n",
       "    </tr>\n",
       "    <tr>\n",
       "      <th>2</th>\n",
       "      <td>5_layers</td>\n",
       "      <td>[0.999, 0.9997]</td>\n",
       "      <td>[0.9998, 0.9985]</td>\n",
       "      <td>[0.9994, 0.9991]</td>\n",
       "      <td>[[17128, 3], [17, 11603]]</td>\n",
       "    </tr>\n",
       "    <tr>\n",
       "      <th>3</th>\n",
       "      <td>7_layers</td>\n",
       "      <td>[0.9988, 0.9994]</td>\n",
       "      <td>[0.9996, 0.9982]</td>\n",
       "      <td>[0.9992, 0.9988]</td>\n",
       "      <td>[[17124, 7], [21, 11599]]</td>\n",
       "    </tr>\n",
       "  </tbody>\n",
       "</table>\n",
       "</div>"
      ],
      "text/plain": [
       "                   Model   Precision Score      Recall Score  \\\n",
       "0               3_layers  [0.9996, 0.9991]  [0.9994, 0.9995]   \n",
       "1  7_layers_with_dropout   [0.9993, 0.999]   [0.9993, 0.999]   \n",
       "2               5_layers   [0.999, 0.9997]  [0.9998, 0.9985]   \n",
       "3               7_layers  [0.9988, 0.9994]  [0.9996, 0.9982]   \n",
       "\n",
       "           F1 score            Confusion Matrix  \n",
       "0  [0.9995, 0.9993]   [[17121, 10], [6, 11614]]  \n",
       "1   [0.9993, 0.999]  [[17119, 12], [12, 11608]]  \n",
       "2  [0.9994, 0.9991]   [[17128, 3], [17, 11603]]  \n",
       "3  [0.9992, 0.9988]   [[17124, 7], [21, 11599]]  "
      ]
     },
     "execution_count": 46,
     "metadata": {},
     "output_type": "execute_result"
    }
   ],
   "source": [
    "# # Converting prediction to categorical\n",
    "test_y_cat = to_categorical(test_y)\n",
    "test_set_results = []\n",
    "\n",
    "for name, model in final_models.items():\n",
    "    # Evaluate model\n",
    "    predict_x = model.predict(test_x, verbose=False) \n",
    "    y_pred_class = np.argmax(predict_x, axis=1)\n",
    "    y_test_class = np.argmax(test_y_cat, axis=1)\n",
    "\n",
    "    cm = confusion_matrix(y_test_class, y_pred_class, labels=[0, 1])\n",
    "    (p_score, r_score, f_score, _) = precision_recall_fscore_support(y_test_class, y_pred_class, labels=[0, 1])\n",
    "    \n",
    "    test_set_results.append(( name, round_up_metric_results(p_score), round_up_metric_results(r_score), round_up_metric_results(f_score), cm ))\n",
    "\n",
    "test_set_results.sort(key=lambda k: k[1] + k[2] + k[3], reverse=True)\n",
    "pd.DataFrame(test_set_results, columns=[\"Model\", \"Precision Score\", \"Recall Score\", \"F1 score\", \"Confusion Matrix\"])"
   ]
  },
  {
   "cell_type": "markdown",
   "metadata": {},
   "source": [
    "5. Dumped Model"
   ]
  },
  {
   "cell_type": "code",
   "execution_count": 48,
   "metadata": {
    "execution": {
     "iopub.execute_input": "2025-04-02T19:38:14.710824Z",
     "iopub.status.busy": "2025-04-02T19:38:14.710526Z",
     "iopub.status.idle": "2025-04-02T19:38:14.758889Z",
     "shell.execute_reply": "2025-04-02T19:38:14.758031Z",
     "shell.execute_reply.started": "2025-04-02T19:38:14.710800Z"
    },
    "trusted": true
   },
   "outputs": [
    {
     "name": "stdout",
     "output_type": "stream",
     "text": [
      "Model saved successfully!\n"
     ]
    }
   ],
   "source": [
    "import os\n",
    "import pickle\n",
    "\n",
    "# Ensure the directory exists\n",
    "os.makedirs(\"./model\", exist_ok=True)  # Creates the \"model\" directory if it doesn't exist\n",
    "\n",
    "# Save the model\n",
    "with open(\"./model/bicep_dp.pkl\", \"wb\") as f:\n",
    "    pickle.dump(final_models[\"7_layers\"], f)\n",
    "\n",
    "print(\"Model saved successfully!\")\n"
   ]
  },
  {
   "cell_type": "code",
   "execution_count": 52,
   "metadata": {
    "execution": {
     "iopub.execute_input": "2025-04-02T19:43:33.630712Z",
     "iopub.status.busy": "2025-04-02T19:43:33.630435Z",
     "iopub.status.idle": "2025-04-02T19:43:33.751270Z",
     "shell.execute_reply": "2025-04-02T19:43:33.750409Z",
     "shell.execute_reply.started": "2025-04-02T19:43:33.630692Z"
    },
    "trusted": true
   },
   "outputs": [],
   "source": [
    "# Dump final results\n",
    "with open(\"./model/all_models.pkl\", \"wb\") as f:\n",
    "    pickle.dump(final_models, f)"
   ]
  },
  {
   "cell_type": "code",
   "execution_count": 54,
   "metadata": {
    "execution": {
     "iopub.execute_input": "2025-04-02T19:46:01.394740Z",
     "iopub.status.busy": "2025-04-02T19:46:01.394427Z",
     "iopub.status.idle": "2025-04-02T19:46:01.850666Z",
     "shell.execute_reply": "2025-04-02T19:46:01.849926Z",
     "shell.execute_reply.started": "2025-04-02T19:46:01.394712Z"
    },
    "trusted": true
   },
   "outputs": [],
   "source": [
    "# Load all deep learning models\n",
    "with open(\"/kaggle/working/model/all_models.pkl\", \"rb\") as f:\n",
    "    dp_models = pickle.load(f)"
   ]
  },
  {
   "cell_type": "code",
   "execution_count": 58,
   "metadata": {
    "execution": {
     "iopub.execute_input": "2025-04-02T19:47:05.899725Z",
     "iopub.status.busy": "2025-04-02T19:47:05.899423Z",
     "iopub.status.idle": "2025-04-02T19:47:05.903535Z",
     "shell.execute_reply": "2025-04-02T19:47:05.902642Z",
     "shell.execute_reply.started": "2025-04-02T19:47:05.899704Z"
    },
    "trusted": true
   },
   "outputs": [],
   "source": [
    "from sklearn.metrics import precision_score, accuracy_score, f1_score, recall_score, confusion_matrix, roc_curve, auc"
   ]
  },
  {
   "cell_type": "code",
   "execution_count": 59,
   "metadata": {
    "execution": {
     "iopub.execute_input": "2025-04-02T19:47:08.502171Z",
     "iopub.status.busy": "2025-04-02T19:47:08.501834Z",
     "iopub.status.idle": "2025-04-02T19:47:14.668563Z",
     "shell.execute_reply": "2025-04-02T19:47:14.667648Z",
     "shell.execute_reply.started": "2025-04-02T19:47:08.502143Z"
    },
    "trusted": true
   },
   "outputs": [
    {
     "data": {
      "text/html": [
       "<div>\n",
       "<style scoped>\n",
       "    .dataframe tbody tr th:only-of-type {\n",
       "        vertical-align: middle;\n",
       "    }\n",
       "\n",
       "    .dataframe tbody tr th {\n",
       "        vertical-align: top;\n",
       "    }\n",
       "\n",
       "    .dataframe thead th {\n",
       "        text-align: right;\n",
       "    }\n",
       "</style>\n",
       "<table border=\"1\" class=\"dataframe\">\n",
       "  <thead>\n",
       "    <tr style=\"text-align: right;\">\n",
       "      <th></th>\n",
       "      <th>Model</th>\n",
       "      <th>Precision Score</th>\n",
       "      <th>Recall Score</th>\n",
       "      <th>Accuracy Score</th>\n",
       "      <th>F1 Score</th>\n",
       "      <th>Confusion Matrix</th>\n",
       "    </tr>\n",
       "  </thead>\n",
       "  <tbody>\n",
       "    <tr>\n",
       "      <th>0</th>\n",
       "      <td>3_layers</td>\n",
       "      <td>0.999395</td>\n",
       "      <td>0.999450</td>\n",
       "      <td>0.999443</td>\n",
       "      <td>0.999422</td>\n",
       "      <td>[[17121, 10], [6, 11614]]</td>\n",
       "    </tr>\n",
       "    <tr>\n",
       "      <th>1</th>\n",
       "      <td>5_layers</td>\n",
       "      <td>0.999375</td>\n",
       "      <td>0.999181</td>\n",
       "      <td>0.999304</td>\n",
       "      <td>0.999278</td>\n",
       "      <td>[[17128, 3], [17, 11603]]</td>\n",
       "    </tr>\n",
       "    <tr>\n",
       "      <th>2</th>\n",
       "      <td>7_layers_with_dropout</td>\n",
       "      <td>0.999133</td>\n",
       "      <td>0.999133</td>\n",
       "      <td>0.999165</td>\n",
       "      <td>0.999133</td>\n",
       "      <td>[[17119, 12], [12, 11608]]</td>\n",
       "    </tr>\n",
       "    <tr>\n",
       "      <th>3</th>\n",
       "      <td>7_layers</td>\n",
       "      <td>0.999086</td>\n",
       "      <td>0.998892</td>\n",
       "      <td>0.999026</td>\n",
       "      <td>0.998989</td>\n",
       "      <td>[[17124, 7], [21, 11599]]</td>\n",
       "    </tr>\n",
       "  </tbody>\n",
       "</table>\n",
       "</div>"
      ],
      "text/plain": [
       "                   Model  Precision Score  Recall Score  Accuracy Score  \\\n",
       "0               3_layers         0.999395      0.999450        0.999443   \n",
       "1               5_layers         0.999375      0.999181        0.999304   \n",
       "2  7_layers_with_dropout         0.999133      0.999133        0.999165   \n",
       "3               7_layers         0.999086      0.998892        0.999026   \n",
       "\n",
       "   F1 Score            Confusion Matrix  \n",
       "0  0.999422   [[17121, 10], [6, 11614]]  \n",
       "1  0.999278   [[17128, 3], [17, 11603]]  \n",
       "2  0.999133  [[17119, 12], [12, 11608]]  \n",
       "3  0.998989   [[17124, 7], [21, 11599]]  "
      ]
     },
     "execution_count": 59,
     "metadata": {},
     "output_type": "execute_result"
    }
   ],
   "source": [
    "test_set_results = []\n",
    "\n",
    "for name, model in dp_models.items():\n",
    "    # Evaluate model\n",
    "    predict_x = model.predict(test_x, verbose=False) \n",
    "    y_pred_class = np.argmax(predict_x, axis=1)\n",
    "    y_test_class = np.argmax(test_y_cat, axis=1)\n",
    "\n",
    "    cm = confusion_matrix(y_test_class, y_pred_class, labels=[0, 1])\n",
    "    p_score = precision_score(y_test_class, y_pred_class, average=\"macro\")\n",
    "    a_score = accuracy_score(y_test_class, y_pred_class)\n",
    "    r_score = recall_score(y_test_class, y_pred_class, average=\"macro\")\n",
    "    f1_score_result = f1_score(y_test_class, y_pred_class, average=\"macro\")\n",
    "    \n",
    "    test_set_results.append(( name,  (p_score), r_score, (a_score), (f1_score_result), cm ))\n",
    "\n",
    "dp_eval = pd.DataFrame(test_set_results, columns=[\"Model\", \"Precision Score\", \"Recall Score\", \"Accuracy Score\", \"F1 Score\", \"Confusion Matrix\"])\n",
    "\n",
    "dp_eval"
   ]
  },
  {
   "cell_type": "code",
   "execution_count": null,
   "metadata": {
    "trusted": true
   },
   "outputs": [],
   "source": [
    "\n"
   ]
  },
  {
   "cell_type": "code",
   "execution_count": null,
   "metadata": {
    "trusted": true
   },
   "outputs": [],
   "source": []
  },
  {
   "cell_type": "code",
   "execution_count": null,
   "metadata": {
    "trusted": true
   },
   "outputs": [],
   "source": []
  },
  {
   "cell_type": "code",
   "execution_count": null,
   "metadata": {
    "trusted": true
   },
   "outputs": [],
   "source": []
  },
  {
   "cell_type": "code",
   "execution_count": null,
   "metadata": {
    "trusted": true
   },
   "outputs": [],
   "source": []
  },
  {
   "cell_type": "code",
   "execution_count": null,
   "metadata": {
    "trusted": true
   },
   "outputs": [],
   "source": []
  }
 ],
 "metadata": {
  "kaggle": {
   "accelerator": "nvidiaTeslaT4",
   "dataSources": [
    {
     "datasetId": 7022024,
     "sourceId": 11239634,
     "sourceType": "datasetVersion"
    },
    {
     "datasetId": 7033882,
     "sourceId": 11255221,
     "sourceType": "datasetVersion"
    }
   ],
   "dockerImageVersionId": 30919,
   "isGpuEnabled": true,
   "isInternetEnabled": false,
   "language": "python",
   "sourceType": "notebook"
  },
  "kernelspec": {
   "display_name": "Python 3",
   "language": "python",
   "name": "python3"
  },
  "language_info": {
   "codemirror_mode": {
    "name": "ipython",
    "version": 3
   },
   "file_extension": ".py",
   "mimetype": "text/x-python",
   "name": "python",
   "nbconvert_exporter": "python",
   "pygments_lexer": "ipython3",
   "version": "3.10.12"
  }
 },
 "nbformat": 4,
 "nbformat_minor": 4
}
