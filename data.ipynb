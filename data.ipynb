{
 "cells": [
  {
   "cell_type": "code",
   "execution_count": 1,
   "metadata": {},
   "outputs": [],
   "source": [
    "import numpy as np"
   ]
  },
  {
   "cell_type": "code",
   "execution_count": 2,
   "metadata": {},
   "outputs": [],
   "source": [
    "import pandas as pd"
   ]
  },
  {
   "cell_type": "code",
   "execution_count": 3,
   "metadata": {},
   "outputs": [],
   "source": [
    "import tensorflow as tf"
   ]
  },
  {
   "cell_type": "code",
   "execution_count": 4,
   "metadata": {},
   "outputs": [],
   "source": [
    "import mediapipe as mp"
   ]
  },
  {
   "cell_type": "code",
   "execution_count": 5,
   "metadata": {},
   "outputs": [],
   "source": [
    "import cv2"
   ]
  },
  {
   "cell_type": "code",
   "execution_count": 6,
   "metadata": {},
   "outputs": [],
   "source": [
    "import os"
   ]
  },
  {
   "cell_type": "code",
   "execution_count": 7,
   "metadata": {},
   "outputs": [],
   "source": [
    "# Initialize Mediapipe Pose\n",
    "mp_pose = mp.solutions.pose\n",
    "pose = mp_pose.Pose()"
   ]
  },
  {
   "cell_type": "code",
   "execution_count": 8,
   "metadata": {},
   "outputs": [],
   "source": [
    "# Define landmarks to extract\n",
    "landmarks = [\n",
    "    \"NOSE\", \"LEFT_SHOULDER\", \"RIGHT_SHOULDER\", \"RIGHT_ELBOW\",\n",
    "    \"LEFT_ELBOW\", \"RIGHT_WRIST\", \"LEFT_WRIST\", \"LEFT_HIP\", \"RIGHT_HIP\"\n",
    "]"
   ]
  },
  {
   "cell_type": "code",
   "execution_count": 9,
   "metadata": {},
   "outputs": [],
   "source": [
    "# Define dataset directories\n",
    "dataset_dirs = {\n",
    "    \"correct\": \"C:\\\\Users\\\\Rocky\\\\Desktop\\\\dataset\\\\barbel curl\\\\barbel curl correct\",\n",
    "    \"incorrect\": \"C:\\\\Users\\\\Rocky\\\\Desktop\\\\dataset\\\\barbel curl\\\\barbel curl incorrect\"\n",
    "}\n",
    "categories = {\"correct\": \"C\", \"incorrect\": \"L\"}\n",
    "\n",
    "def extract_landmarks(video_path, label, output_data):\n",
    "    cap = cv2.VideoCapture(video_path)\n",
    "    \n",
    "    while cap.isOpened():\n",
    "        ret, frame = cap.read()\n",
    "        if not ret:\n",
    "            break\n",
    "        \n",
    "        # Convert frame to RGB\n",
    "        frame_rgb = cv2.cvtColor(frame, cv2.COLOR_BGR2RGB)\n",
    "        results = pose.process(frame_rgb)\n",
    "        \n",
    "        if results.pose_landmarks:\n",
    "            row = []\n",
    "            for landmark in landmarks:\n",
    "                lm = results.pose_landmarks.landmark[getattr(mp_pose.PoseLandmark, landmark)]\n",
    "                row.extend([lm.x, lm.y, lm.z])\n",
    "            row.append(label)\n",
    "            output_data.append(row)\n",
    "    \n",
    "    cap.release()"
   ]
  },
  {
   "cell_type": "code",
   "execution_count": 10,
   "metadata": {},
   "outputs": [],
   "source": [
    "# Prepare data storage\n",
    "data = []\n",
    "header = [f\"{lm}_{axis}\" for lm in landmarks for axis in [\"x\", \"y\", \"z\"]] + [\"label\"]"
   ]
  },
  {
   "cell_type": "code",
   "execution_count": 11,
   "metadata": {},
   "outputs": [],
   "source": [
    "# Process videos\n",
    "for category, label in categories.items():\n",
    "    folder_path = dataset_dirs[category]\n",
    "    for video_file in os.listdir(folder_path):\n",
    "        video_path = os.path.join(folder_path, video_file)\n",
    "        extract_landmarks(video_path, label, data)"
   ]
  },
  {
   "cell_type": "code",
   "execution_count": 12,
   "metadata": {},
   "outputs": [
    {
     "name": "stdout",
     "output_type": "stream",
     "text": [
      "Pose data extraction complete. Saved as pose_data.csv\n"
     ]
    }
   ],
   "source": [
    "# Save to CSV\n",
    "df = pd.DataFrame(data, columns=header)\n",
    "df.to_csv(\"pose_data.csv\", index=False)\n",
    "\n",
    "print(\"Pose data extraction complete. Saved as pose_data.csv\")"
   ]
  },
  {
   "cell_type": "code",
   "execution_count": 13,
   "metadata": {},
   "outputs": [
    {
     "data": {
      "text/html": [
       "<div>\n",
       "<style scoped>\n",
       "    .dataframe tbody tr th:only-of-type {\n",
       "        vertical-align: middle;\n",
       "    }\n",
       "\n",
       "    .dataframe tbody tr th {\n",
       "        vertical-align: top;\n",
       "    }\n",
       "\n",
       "    .dataframe thead th {\n",
       "        text-align: right;\n",
       "    }\n",
       "</style>\n",
       "<table border=\"1\" class=\"dataframe\">\n",
       "  <thead>\n",
       "    <tr style=\"text-align: right;\">\n",
       "      <th></th>\n",
       "      <th>NOSE_x</th>\n",
       "      <th>NOSE_y</th>\n",
       "      <th>NOSE_z</th>\n",
       "      <th>LEFT_SHOULDER_x</th>\n",
       "      <th>LEFT_SHOULDER_y</th>\n",
       "      <th>LEFT_SHOULDER_z</th>\n",
       "      <th>RIGHT_SHOULDER_x</th>\n",
       "      <th>RIGHT_SHOULDER_y</th>\n",
       "      <th>RIGHT_SHOULDER_z</th>\n",
       "      <th>RIGHT_ELBOW_x</th>\n",
       "      <th>...</th>\n",
       "      <th>LEFT_WRIST_x</th>\n",
       "      <th>LEFT_WRIST_y</th>\n",
       "      <th>LEFT_WRIST_z</th>\n",
       "      <th>LEFT_HIP_x</th>\n",
       "      <th>LEFT_HIP_y</th>\n",
       "      <th>LEFT_HIP_z</th>\n",
       "      <th>RIGHT_HIP_x</th>\n",
       "      <th>RIGHT_HIP_y</th>\n",
       "      <th>RIGHT_HIP_z</th>\n",
       "      <th>label</th>\n",
       "    </tr>\n",
       "  </thead>\n",
       "  <tbody>\n",
       "    <tr>\n",
       "      <th>0</th>\n",
       "      <td>0.462351</td>\n",
       "      <td>0.164782</td>\n",
       "      <td>-0.123609</td>\n",
       "      <td>0.492257</td>\n",
       "      <td>0.277292</td>\n",
       "      <td>-0.278439</td>\n",
       "      <td>0.495751</td>\n",
       "      <td>0.273434</td>\n",
       "      <td>0.097337</td>\n",
       "      <td>0.493655</td>\n",
       "      <td>...</td>\n",
       "      <td>0.456587</td>\n",
       "      <td>0.522510</td>\n",
       "      <td>-0.301254</td>\n",
       "      <td>0.500413</td>\n",
       "      <td>0.519186</td>\n",
       "      <td>-0.118165</td>\n",
       "      <td>0.500515</td>\n",
       "      <td>0.515042</td>\n",
       "      <td>0.118187</td>\n",
       "      <td>C</td>\n",
       "    </tr>\n",
       "    <tr>\n",
       "      <th>1</th>\n",
       "      <td>0.461219</td>\n",
       "      <td>0.164932</td>\n",
       "      <td>-0.114580</td>\n",
       "      <td>0.486904</td>\n",
       "      <td>0.278109</td>\n",
       "      <td>-0.277368</td>\n",
       "      <td>0.498989</td>\n",
       "      <td>0.274135</td>\n",
       "      <td>0.102823</td>\n",
       "      <td>0.496862</td>\n",
       "      <td>...</td>\n",
       "      <td>0.456758</td>\n",
       "      <td>0.526260</td>\n",
       "      <td>-0.275735</td>\n",
       "      <td>0.499275</td>\n",
       "      <td>0.520893</td>\n",
       "      <td>-0.118174</td>\n",
       "      <td>0.504388</td>\n",
       "      <td>0.515979</td>\n",
       "      <td>0.118193</td>\n",
       "      <td>C</td>\n",
       "    </tr>\n",
       "    <tr>\n",
       "      <th>2</th>\n",
       "      <td>0.459519</td>\n",
       "      <td>0.165322</td>\n",
       "      <td>-0.104555</td>\n",
       "      <td>0.486792</td>\n",
       "      <td>0.278391</td>\n",
       "      <td>-0.266112</td>\n",
       "      <td>0.497042</td>\n",
       "      <td>0.274535</td>\n",
       "      <td>0.107656</td>\n",
       "      <td>0.495639</td>\n",
       "      <td>...</td>\n",
       "      <td>0.459964</td>\n",
       "      <td>0.520088</td>\n",
       "      <td>-0.272144</td>\n",
       "      <td>0.497558</td>\n",
       "      <td>0.523163</td>\n",
       "      <td>-0.117418</td>\n",
       "      <td>0.502223</td>\n",
       "      <td>0.519563</td>\n",
       "      <td>0.117412</td>\n",
       "      <td>C</td>\n",
       "    </tr>\n",
       "    <tr>\n",
       "      <th>3</th>\n",
       "      <td>0.458880</td>\n",
       "      <td>0.165431</td>\n",
       "      <td>-0.107126</td>\n",
       "      <td>0.486089</td>\n",
       "      <td>0.278825</td>\n",
       "      <td>-0.268223</td>\n",
       "      <td>0.496873</td>\n",
       "      <td>0.274687</td>\n",
       "      <td>0.107563</td>\n",
       "      <td>0.495361</td>\n",
       "      <td>...</td>\n",
       "      <td>0.460992</td>\n",
       "      <td>0.520118</td>\n",
       "      <td>-0.275714</td>\n",
       "      <td>0.497295</td>\n",
       "      <td>0.524679</td>\n",
       "      <td>-0.117569</td>\n",
       "      <td>0.502224</td>\n",
       "      <td>0.521054</td>\n",
       "      <td>0.117551</td>\n",
       "      <td>C</td>\n",
       "    </tr>\n",
       "    <tr>\n",
       "      <th>4</th>\n",
       "      <td>0.457120</td>\n",
       "      <td>0.165494</td>\n",
       "      <td>-0.110781</td>\n",
       "      <td>0.485511</td>\n",
       "      <td>0.279727</td>\n",
       "      <td>-0.274603</td>\n",
       "      <td>0.494680</td>\n",
       "      <td>0.275643</td>\n",
       "      <td>0.106146</td>\n",
       "      <td>0.494260</td>\n",
       "      <td>...</td>\n",
       "      <td>0.461308</td>\n",
       "      <td>0.523362</td>\n",
       "      <td>-0.278242</td>\n",
       "      <td>0.495721</td>\n",
       "      <td>0.528560</td>\n",
       "      <td>-0.117773</td>\n",
       "      <td>0.500755</td>\n",
       "      <td>0.524592</td>\n",
       "      <td>0.117746</td>\n",
       "      <td>C</td>\n",
       "    </tr>\n",
       "  </tbody>\n",
       "</table>\n",
       "<p>5 rows × 28 columns</p>\n",
       "</div>"
      ],
      "text/plain": [
       "     NOSE_x    NOSE_y    NOSE_z  LEFT_SHOULDER_x  LEFT_SHOULDER_y  \\\n",
       "0  0.462351  0.164782 -0.123609         0.492257         0.277292   \n",
       "1  0.461219  0.164932 -0.114580         0.486904         0.278109   \n",
       "2  0.459519  0.165322 -0.104555         0.486792         0.278391   \n",
       "3  0.458880  0.165431 -0.107126         0.486089         0.278825   \n",
       "4  0.457120  0.165494 -0.110781         0.485511         0.279727   \n",
       "\n",
       "   LEFT_SHOULDER_z  RIGHT_SHOULDER_x  RIGHT_SHOULDER_y  RIGHT_SHOULDER_z  \\\n",
       "0        -0.278439          0.495751          0.273434          0.097337   \n",
       "1        -0.277368          0.498989          0.274135          0.102823   \n",
       "2        -0.266112          0.497042          0.274535          0.107656   \n",
       "3        -0.268223          0.496873          0.274687          0.107563   \n",
       "4        -0.274603          0.494680          0.275643          0.106146   \n",
       "\n",
       "   RIGHT_ELBOW_x  ...  LEFT_WRIST_x  LEFT_WRIST_y  LEFT_WRIST_z  LEFT_HIP_x  \\\n",
       "0       0.493655  ...      0.456587      0.522510     -0.301254    0.500413   \n",
       "1       0.496862  ...      0.456758      0.526260     -0.275735    0.499275   \n",
       "2       0.495639  ...      0.459964      0.520088     -0.272144    0.497558   \n",
       "3       0.495361  ...      0.460992      0.520118     -0.275714    0.497295   \n",
       "4       0.494260  ...      0.461308      0.523362     -0.278242    0.495721   \n",
       "\n",
       "   LEFT_HIP_y  LEFT_HIP_z  RIGHT_HIP_x  RIGHT_HIP_y  RIGHT_HIP_z  label  \n",
       "0    0.519186   -0.118165     0.500515     0.515042     0.118187      C  \n",
       "1    0.520893   -0.118174     0.504388     0.515979     0.118193      C  \n",
       "2    0.523163   -0.117418     0.502223     0.519563     0.117412      C  \n",
       "3    0.524679   -0.117569     0.502224     0.521054     0.117551      C  \n",
       "4    0.528560   -0.117773     0.500755     0.524592     0.117746      C  \n",
       "\n",
       "[5 rows x 28 columns]"
      ]
     },
     "execution_count": 13,
     "metadata": {},
     "output_type": "execute_result"
    }
   ],
   "source": [
    "df.head(5)"
   ]
  },
  {
   "cell_type": "code",
   "execution_count": 15,
   "metadata": {},
   "outputs": [
    {
     "data": {
      "text/plain": [
       "(145776, 28)"
      ]
     },
     "execution_count": 15,
     "metadata": {},
     "output_type": "execute_result"
    }
   ],
   "source": [
    "df.shape"
   ]
  },
  {
   "cell_type": "code",
   "execution_count": 16,
   "metadata": {},
   "outputs": [
    {
     "name": "stdout",
     "output_type": "stream",
     "text": [
      "Null Values in Each Column:\n",
      " NOSE_x              0\n",
      "NOSE_y              0\n",
      "NOSE_z              0\n",
      "LEFT_SHOULDER_x     0\n",
      "LEFT_SHOULDER_y     0\n",
      "LEFT_SHOULDER_z     0\n",
      "RIGHT_SHOULDER_x    0\n",
      "RIGHT_SHOULDER_y    0\n",
      "RIGHT_SHOULDER_z    0\n",
      "RIGHT_ELBOW_x       0\n",
      "RIGHT_ELBOW_y       0\n",
      "RIGHT_ELBOW_z       0\n",
      "LEFT_ELBOW_x        0\n",
      "LEFT_ELBOW_y        0\n",
      "LEFT_ELBOW_z        0\n",
      "RIGHT_WRIST_x       0\n",
      "RIGHT_WRIST_y       0\n",
      "RIGHT_WRIST_z       0\n",
      "LEFT_WRIST_x        0\n",
      "LEFT_WRIST_y        0\n",
      "LEFT_WRIST_z        0\n",
      "LEFT_HIP_x          0\n",
      "LEFT_HIP_y          0\n",
      "LEFT_HIP_z          0\n",
      "RIGHT_HIP_x         0\n",
      "RIGHT_HIP_y         0\n",
      "RIGHT_HIP_z         0\n",
      "label               0\n",
      "dtype: int64\n"
     ]
    }
   ],
   "source": [
    "# Check for null values\n",
    "null_values = df.isnull().sum()\n",
    "print(\"Null Values in Each Column:\\n\", null_values)"
   ]
  },
  {
   "cell_type": "code",
   "execution_count": 17,
   "metadata": {},
   "outputs": [
    {
     "name": "stdout",
     "output_type": "stream",
     "text": [
      "\n",
      "Number of Duplicate Rows: 2025\n"
     ]
    }
   ],
   "source": [
    "# Check for duplicate rows\n",
    "duplicate_rows = df.duplicated().sum()\n",
    "print(\"\\nNumber of Duplicate Rows:\", duplicate_rows)"
   ]
  },
  {
   "cell_type": "code",
   "execution_count": 18,
   "metadata": {},
   "outputs": [
    {
     "name": "stdout",
     "output_type": "stream",
     "text": [
      "\n",
      "Class Distribution:\n",
      " label\n",
      "C    87992\n",
      "L    57784\n",
      "Name: count, dtype: int64\n"
     ]
    }
   ],
   "source": [
    "# Check dataset balance\n",
    "class_distribution = df[\"label\"].value_counts()\n",
    "print(\"\\nClass Distribution:\\n\", class_distribution)"
   ]
  },
  {
   "cell_type": "code",
   "execution_count": 19,
   "metadata": {},
   "outputs": [
    {
     "data": {
      "image/png": "[encoded data removed]",
      "text/plain": [
       "<Figure size 640x480 with 1 Axes>"
      ]
     },
     "metadata": {},
     "output_type": "display_data"
    }
   ],
   "source": [
    "# Visualize dataset balance\n",
    "import matplotlib.pyplot as plt\n",
    "\n",
    "plt.bar(class_distribution.index, class_distribution.values, color=['green', 'red'])\n",
    "plt.xlabel(\"Class Label\")\n",
    "plt.ylabel(\"Count\")\n",
    "plt.title(\"Class Distribution (Correct vs Incorrect)\")\n",
    "plt.show()"
   ]
  },
  {
   "cell_type": "code",
   "execution_count": 20,
   "metadata": {},
   "outputs": [
    {
     "name": "stdout",
     "output_type": "stream",
     "text": [
      "Original dataset size: 145776 rows\n",
      "Cleaned dataset size: 143751 rows\n",
      "Duplicate rows removed. Cleaned dataset saved as 'pose_data_cleaned.csv'.\n"
     ]
    }
   ],
   "source": [
    "# Remove duplicate rows\n",
    "df_cleaned = df.drop_duplicates()\n",
    "\n",
    "# Save the cleaned dataset\n",
    "df_cleaned.to_csv(\"pose_data_cleaned.csv\", index=False)\n",
    "\n",
    "print(f\"Original dataset size: {df.shape[0]} rows\")\n",
    "print(f\"Cleaned dataset size: {df_cleaned.shape[0]} rows\")\n",
    "print(\"Duplicate rows removed. Cleaned dataset saved as 'pose_data_cleaned.csv'.\")"
   ]
  },
  {
   "cell_type": "code",
   "execution_count": null,
   "metadata": {},
   "outputs": [],
   "source": [
    "# Visualize dataset balance\n",
    "import matplotlib.pyplot as plt\n",
    "\n",
    "plt.bar(class_distribution.index, class_distribution.values, color=['green', 'red'])\n",
    "plt.xlabel(\"Class Label\")\n",
    "plt.ylabel(\"Count\")\n",
    "plt.title(\"Class Distribution (Correct vs Incorrect)\")\n",
    "plt.show()"
   ]
  },
  {
   "cell_type": "code",
   "execution_count": 21,
   "metadata": {},
   "outputs": [
    {
     "name": "stdout",
     "output_type": "stream",
     "text": [
      "\n",
      "Class Distribution:\n",
      " label\n",
      "C    85967\n",
      "L    57784\n",
      "Name: count, dtype: int64\n"
     ]
    },
    {
     "data": {
      "image/png": "[encoded data removed]",
      "text/plain": [
       "<Figure size 640x480 with 1 Axes>"
      ]
     },
     "metadata": {},
     "output_type": "display_data"
    }
   ],
   "source": [
    "# Load the cleaned dataset\n",
    "df = pd.read_csv(\"pose_data_cleaned.csv\")\n",
    "\n",
    "# Check class distribution\n",
    "class_distribution = df[\"label\"].value_counts()\n",
    "print(\"\\nClass Distribution:\\n\", class_distribution)\n",
    "\n",
    "# Visualize class balance\n",
    "plt.bar(class_distribution.index, class_distribution.values, color=['green', 'red'])\n",
    "plt.xlabel(\"Class Label\")\n",
    "plt.ylabel(\"Count\")\n",
    "plt.title(\"Class Distribution (Correct vs Incorrect)\")\n",
    "plt.show()"
   ]
  },
  {
   "cell_type": "code",
   "execution_count": 25,
   "metadata": {},
   "outputs": [],
   "source": [
    "import pickle"
   ]
  },
  {
   "cell_type": "code",
   "execution_count": null,
   "metadata": {},
   "outputs": [
    {
     "name": "stdout",
     "output_type": "stream",
     "text": [
      "Preprocessing complete. Saved as 'pose_data_preprocessed.csv'.\n"
     ]
    }
   ],
   "source": [
    "import pandas as pd\n",
    "from sklearn.preprocessing import MinMaxScaler, LabelEncoder\n",
    "\n",
    "# Load the cleaned dataset\n",
    "df = pd.read_csv(\"pose_data_cleaned.csv\")\n",
    "\n",
    "# Convert labels ('C' -> 0, 'L' -> 1)\n",
    "label_encoder = LabelEncoder()\n",
    "df[\"label\"] = label_encoder.fit_transform(df[\"label\"])\n",
    "\n",
    "# Normalize x, y, z values to range [0,1]\n",
    "scaler = MinMaxScaler(feature_range=(0, 1))  # Change to (-1,1) if needed\n",
    "feature_columns = df.columns[:-1]  # All columns except the label\n",
    "\n",
    "df[feature_columns] = scaler.fit_transform(df[feature_columns])\n",
    "\n",
    "\n",
    "\n",
    "\n",
    "# Save the preprocessed dataset\n",
    "df.to_csv(\"pose_data_preprocessed.csv\", index=False)\n",
    "\n",
    "print(\"Preprocessing complete. Saved as 'pose_data_preprocessed.csv'.\")\n"
   ]
  },
  {
   "cell_type": "code",
   "execution_count": 24,
   "metadata": {},
   "outputs": [
    {
     "name": "stdout",
     "output_type": "stream",
     "text": [
      "Training set: 115000 rows saved to train.csv\n",
      "Test set: 28751 rows saved to test.csv\n"
     ]
    }
   ],
   "source": [
    "import pandas as pd\n",
    "from sklearn.model_selection import train_test_split\n",
    "\n",
    "# Load dataset\n",
    "df = pd.read_csv(\"pose_data_preprocessed.csv\")\n",
    "\n",
    "# Shuffle dataset\n",
    "df = df.sample(frac=1, random_state=42).reset_index(drop=True)  # frac=1 ensures full shuffling\n",
    "\n",
    "# Split into training (80%) and testing (20%)\n",
    "train_df, test_df = train_test_split(df, test_size=0.2, random_state=42)\n",
    "\n",
    "# Save to CSV files\n",
    "train_df.to_csv(\"train.csv\", index=False)\n",
    "test_df.to_csv(\"test.csv\", index=False)\n",
    "\n",
    "print(f\"Training set: {len(train_df)} rows saved to train.csv\")\n",
    "print(f\"Test set: {len(test_df)} rows saved to test.csv\")\n"
   ]
  },
  {
   "cell_type": "code",
   "execution_count": 26,
   "metadata": {},
   "outputs": [],
   "source": [
    "with open(\"scaler.pkl\", \"wb\") as f:\n",
    "    pickle.dump(scaler, f)"
   ]
  },
  {
   "cell_type": "code",
   "execution_count": 28,
   "metadata": {},
   "outputs": [
    {
     "name": "stdout",
     "output_type": "stream",
     "text": [
      "Index(['NOSE_x', 'NOSE_y', 'NOSE_z', 'LEFT_SHOULDER_x', 'LEFT_SHOULDER_y',\n",
      "       'LEFT_SHOULDER_z', 'RIGHT_SHOULDER_x', 'RIGHT_SHOULDER_y',\n",
      "       'RIGHT_SHOULDER_z', 'RIGHT_ELBOW_x', 'RIGHT_ELBOW_y', 'RIGHT_ELBOW_z',\n",
      "       'LEFT_ELBOW_x', 'LEFT_ELBOW_y', 'LEFT_ELBOW_z', 'RIGHT_WRIST_x',\n",
      "       'RIGHT_WRIST_y', 'RIGHT_WRIST_z', 'LEFT_WRIST_x', 'LEFT_WRIST_y',\n",
      "       'LEFT_WRIST_z', 'LEFT_HIP_x', 'LEFT_HIP_y', 'LEFT_HIP_z', 'RIGHT_HIP_x',\n",
      "       'RIGHT_HIP_y', 'RIGHT_HIP_z', 'label'],\n",
      "      dtype='object')\n"
     ]
    }
   ],
   "source": [
    "train_df = pd.read_csv(\"train.csv\")\n",
    "print(train_df.columns)"
   ]
  },
  {
   "cell_type": "code",
   "execution_count": null,
   "metadata": {},
   "outputs": [],
   "source": []
  },
  {
   "cell_type": "code",
   "execution_count": null,
   "metadata": {},
   "outputs": [],
   "source": []
  },
  {
   "cell_type": "code",
   "execution_count": null,
   "metadata": {},
   "outputs": [],
   "source": []
  }
 ],
 "metadata": {
  "kernelspec": {
   "display_name": "myenv",
   "language": "python",
   "name": "python3"
  },
  "language_info": {
   "codemirror_mode": {
    "name": "ipython",
    "version": 3
   },
   "file_extension": ".py",
   "mimetype": "text/x-python",
   "name": "python",
   "nbconvert_exporter": "python",
   "pygments_lexer": "ipython3",
   "version": "3.11.9"
  }
 },
 "nbformat": 4,
 "nbformat_minor": 2
}
